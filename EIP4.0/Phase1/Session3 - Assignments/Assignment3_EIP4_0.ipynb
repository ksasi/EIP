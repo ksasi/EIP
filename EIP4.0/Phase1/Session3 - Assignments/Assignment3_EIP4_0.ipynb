{
  "nbformat": 4,
  "nbformat_minor": 0,
  "metadata": {
    "accelerator": "GPU",
    "colab": {
      "name": "Assignment6_EIP4_0.ipynb",
      "provenance": [],
      "collapsed_sections": []
    },
    "kernelspec": {
      "display_name": "Python 3",
      "language": "python",
      "name": "python3"
    },
    "language_info": {
      "codemirror_mode": {
        "name": "ipython",
        "version": 3
      },
      "file_extension": ".py",
      "mimetype": "text/x-python",
      "name": "python",
      "nbconvert_exporter": "python",
      "pygments_lexer": "ipython3",
      "version": "3.6.9"
    }
  },
  "cells": [
    {
      "cell_type": "markdown",
      "metadata": {
        "id": "mr-0ImXr-RNP",
        "colab_type": "text"
      },
      "source": [
        "<a href=\"https://colab.research.google.com/github/ksasi/EIP/blob/master/EIP4.0/Phase1/Session3%20-%20Assignments/Assignment3_EIP4_0.ipynb\" target=\"_parent\"><img src=\"https://colab.research.google.com/assets/colab-badge.svg\" alt=\"Open In Colab\"/></a>"
      ]
    },
    {
      "cell_type": "code",
      "metadata": {
        "colab_type": "code",
        "id": "zzL1f6vcvLk_",
        "outputId": "4d39c4cf-1d19-4dfe-bc90-0b22d8bbbd26",
        "colab": {
          "base_uri": "https://localhost:8080/",
          "height": 306
        }
      },
      "source": [
        "!nvidia-smi"
      ],
      "execution_count": 0,
      "outputs": [
        {
          "output_type": "stream",
          "text": [
            "Tue Dec  3 05:22:35 2019       \n",
            "+-----------------------------------------------------------------------------+\n",
            "| NVIDIA-SMI 440.33.01    Driver Version: 418.67       CUDA Version: 10.1     |\n",
            "|-------------------------------+----------------------+----------------------+\n",
            "| GPU  Name        Persistence-M| Bus-Id        Disp.A | Volatile Uncorr. ECC |\n",
            "| Fan  Temp  Perf  Pwr:Usage/Cap|         Memory-Usage | GPU-Util  Compute M. |\n",
            "|===============================+======================+======================|\n",
            "|   0  Tesla K80           Off  | 00000000:00:04.0 Off |                    0 |\n",
            "| N/A   72C    P8    37W / 149W |      0MiB / 11441MiB |      0%      Default |\n",
            "+-------------------------------+----------------------+----------------------+\n",
            "                                                                               \n",
            "+-----------------------------------------------------------------------------+\n",
            "| Processes:                                                       GPU Memory |\n",
            "|  GPU       PID   Type   Process name                             Usage      |\n",
            "|=============================================================================|\n",
            "|  No running processes found                                                 |\n",
            "+-----------------------------------------------------------------------------+\n"
          ],
          "name": "stdout"
        }
      ]
    },
    {
      "cell_type": "code",
      "metadata": {
        "colab_type": "code",
        "id": "CE13P0z_vPri",
        "outputId": "bd774bc2-d81b-4843-dac7-75d8df24c554",
        "colab": {
          "base_uri": "https://localhost:8080/",
          "height": 85
        }
      },
      "source": [
        "!nvcc --version"
      ],
      "execution_count": 0,
      "outputs": [
        {
          "output_type": "stream",
          "text": [
            "nvcc: NVIDIA (R) Cuda compiler driver\n",
            "Copyright (c) 2005-2018 NVIDIA Corporation\n",
            "Built on Sat_Aug_25_21:08:01_CDT_2018\n",
            "Cuda compilation tools, release 10.0, V10.0.130\n"
          ],
          "name": "stdout"
        }
      ]
    },
    {
      "cell_type": "code",
      "metadata": {
        "colab_type": "code",
        "id": "No2o3uEFvSyI",
        "outputId": "73732a98-9702-458e-dda3-7415e6fee1af",
        "colab": {
          "base_uri": "https://localhost:8080/",
          "height": 34
        }
      },
      "source": [
        "!python -V"
      ],
      "execution_count": 0,
      "outputs": [
        {
          "output_type": "stream",
          "text": [
            "Python 3.6.8\n"
          ],
          "name": "stdout"
        }
      ]
    },
    {
      "cell_type": "code",
      "metadata": {
        "colab_type": "code",
        "id": "Xh4DE7rlvZ_T",
        "outputId": "3e0e0f8c-ba48-40c2-e8e8-c9317ce3bb3f",
        "colab": {
          "base_uri": "https://localhost:8080/",
          "height": 1000
        }
      },
      "source": [
        "!pip install tensorflow-gpu"
      ],
      "execution_count": 0,
      "outputs": [
        {
          "output_type": "stream",
          "text": [
            "Collecting tensorflow-gpu\n",
            "\u001b[?25l  Downloading https://files.pythonhosted.org/packages/25/44/47f0722aea081697143fbcf5d2aa60d1aee4aaacb5869aee2b568974777b/tensorflow_gpu-2.0.0-cp36-cp36m-manylinux2010_x86_64.whl (380.8MB)\n",
            "\u001b[K     |████████████████████████████████| 380.8MB 41kB/s \n",
            "\u001b[?25hRequirement already satisfied: keras-applications>=1.0.8 in /usr/local/lib/python3.6/dist-packages (from tensorflow-gpu) (1.0.8)\n",
            "Requirement already satisfied: wheel>=0.26 in /usr/local/lib/python3.6/dist-packages (from tensorflow-gpu) (0.33.6)\n",
            "Requirement already satisfied: termcolor>=1.1.0 in /usr/local/lib/python3.6/dist-packages (from tensorflow-gpu) (1.1.0)\n",
            "Collecting tensorflow-estimator<2.1.0,>=2.0.0\n",
            "\u001b[?25l  Downloading https://files.pythonhosted.org/packages/fc/08/8b927337b7019c374719145d1dceba21a8bb909b93b1ad6f8fb7d22c1ca1/tensorflow_estimator-2.0.1-py2.py3-none-any.whl (449kB)\n",
            "\u001b[K     |████████████████████████████████| 450kB 30.9MB/s \n",
            "\u001b[?25hRequirement already satisfied: six>=1.10.0 in /usr/local/lib/python3.6/dist-packages (from tensorflow-gpu) (1.12.0)\n",
            "Requirement already satisfied: grpcio>=1.8.6 in /usr/local/lib/python3.6/dist-packages (from tensorflow-gpu) (1.15.0)\n",
            "Requirement already satisfied: opt-einsum>=2.3.2 in /usr/local/lib/python3.6/dist-packages (from tensorflow-gpu) (3.1.0)\n",
            "Collecting tensorboard<2.1.0,>=2.0.0\n",
            "\u001b[?25l  Downloading https://files.pythonhosted.org/packages/76/54/99b9d5d52d5cb732f099baaaf7740403e83fe6b0cedde940fabd2b13d75a/tensorboard-2.0.2-py3-none-any.whl (3.8MB)\n",
            "\u001b[K     |████████████████████████████████| 3.8MB 28.2MB/s \n",
            "\u001b[?25hRequirement already satisfied: astor>=0.6.0 in /usr/local/lib/python3.6/dist-packages (from tensorflow-gpu) (0.8.0)\n",
            "Requirement already satisfied: gast==0.2.2 in /usr/local/lib/python3.6/dist-packages (from tensorflow-gpu) (0.2.2)\n",
            "Requirement already satisfied: protobuf>=3.6.1 in /usr/local/lib/python3.6/dist-packages (from tensorflow-gpu) (3.10.0)\n",
            "Requirement already satisfied: google-pasta>=0.1.6 in /usr/local/lib/python3.6/dist-packages (from tensorflow-gpu) (0.1.8)\n",
            "Requirement already satisfied: wrapt>=1.11.1 in /usr/local/lib/python3.6/dist-packages (from tensorflow-gpu) (1.11.2)\n",
            "Requirement already satisfied: keras-preprocessing>=1.0.5 in /usr/local/lib/python3.6/dist-packages (from tensorflow-gpu) (1.1.0)\n",
            "Requirement already satisfied: numpy<2.0,>=1.16.0 in /usr/local/lib/python3.6/dist-packages (from tensorflow-gpu) (1.17.4)\n",
            "Requirement already satisfied: absl-py>=0.7.0 in /usr/local/lib/python3.6/dist-packages (from tensorflow-gpu) (0.8.1)\n",
            "Requirement already satisfied: h5py in /usr/local/lib/python3.6/dist-packages (from keras-applications>=1.0.8->tensorflow-gpu) (2.8.0)\n",
            "Requirement already satisfied: setuptools>=41.0.0 in /usr/local/lib/python3.6/dist-packages (from tensorboard<2.1.0,>=2.0.0->tensorflow-gpu) (41.6.0)\n",
            "Collecting google-auth<2,>=1.6.3\n",
            "\u001b[?25l  Downloading https://files.pythonhosted.org/packages/7b/cb/786dc53d93494784935a62947643b48250b84a882474e714f9af5e1a1928/google_auth-1.7.1-py2.py3-none-any.whl (74kB)\n",
            "\u001b[K     |████████████████████████████████| 81kB 10.0MB/s \n",
            "\u001b[?25hRequirement already satisfied: markdown>=2.6.8 in /usr/local/lib/python3.6/dist-packages (from tensorboard<2.1.0,>=2.0.0->tensorflow-gpu) (3.1.1)\n",
            "Requirement already satisfied: google-auth-oauthlib<0.5,>=0.4.1 in /usr/local/lib/python3.6/dist-packages (from tensorboard<2.1.0,>=2.0.0->tensorflow-gpu) (0.4.1)\n",
            "Requirement already satisfied: requests<3,>=2.21.0 in /usr/local/lib/python3.6/dist-packages (from tensorboard<2.1.0,>=2.0.0->tensorflow-gpu) (2.21.0)\n",
            "Requirement already satisfied: werkzeug>=0.11.15 in /usr/local/lib/python3.6/dist-packages (from tensorboard<2.1.0,>=2.0.0->tensorflow-gpu) (0.16.0)\n",
            "Requirement already satisfied: cachetools<3.2,>=2.0.0 in /usr/local/lib/python3.6/dist-packages (from google-auth<2,>=1.6.3->tensorboard<2.1.0,>=2.0.0->tensorflow-gpu) (3.1.1)\n",
            "Requirement already satisfied: rsa<4.1,>=3.1.4 in /usr/local/lib/python3.6/dist-packages (from google-auth<2,>=1.6.3->tensorboard<2.1.0,>=2.0.0->tensorflow-gpu) (4.0)\n",
            "Requirement already satisfied: pyasn1-modules>=0.2.1 in /usr/local/lib/python3.6/dist-packages (from google-auth<2,>=1.6.3->tensorboard<2.1.0,>=2.0.0->tensorflow-gpu) (0.2.7)\n",
            "Requirement already satisfied: requests-oauthlib>=0.7.0 in /usr/local/lib/python3.6/dist-packages (from google-auth-oauthlib<0.5,>=0.4.1->tensorboard<2.1.0,>=2.0.0->tensorflow-gpu) (1.3.0)\n",
            "Requirement already satisfied: urllib3<1.25,>=1.21.1 in /usr/local/lib/python3.6/dist-packages (from requests<3,>=2.21.0->tensorboard<2.1.0,>=2.0.0->tensorflow-gpu) (1.24.3)\n",
            "Requirement already satisfied: idna<2.9,>=2.5 in /usr/local/lib/python3.6/dist-packages (from requests<3,>=2.21.0->tensorboard<2.1.0,>=2.0.0->tensorflow-gpu) (2.8)\n",
            "Requirement already satisfied: certifi>=2017.4.17 in /usr/local/lib/python3.6/dist-packages (from requests<3,>=2.21.0->tensorboard<2.1.0,>=2.0.0->tensorflow-gpu) (2019.9.11)\n",
            "Requirement already satisfied: chardet<3.1.0,>=3.0.2 in /usr/local/lib/python3.6/dist-packages (from requests<3,>=2.21.0->tensorboard<2.1.0,>=2.0.0->tensorflow-gpu) (3.0.4)\n",
            "Requirement already satisfied: pyasn1>=0.1.3 in /usr/local/lib/python3.6/dist-packages (from rsa<4.1,>=3.1.4->google-auth<2,>=1.6.3->tensorboard<2.1.0,>=2.0.0->tensorflow-gpu) (0.4.7)\n",
            "Requirement already satisfied: oauthlib>=3.0.0 in /usr/local/lib/python3.6/dist-packages (from requests-oauthlib>=0.7.0->google-auth-oauthlib<0.5,>=0.4.1->tensorboard<2.1.0,>=2.0.0->tensorflow-gpu) (3.1.0)\n",
            "\u001b[31mERROR: tensorflow 1.15.0 has requirement tensorboard<1.16.0,>=1.15.0, but you'll have tensorboard 2.0.2 which is incompatible.\u001b[0m\n",
            "\u001b[31mERROR: tensorflow 1.15.0 has requirement tensorflow-estimator==1.15.1, but you'll have tensorflow-estimator 2.0.1 which is incompatible.\u001b[0m\n",
            "\u001b[31mERROR: tensorboard 2.0.2 has requirement grpcio>=1.24.3, but you'll have grpcio 1.15.0 which is incompatible.\u001b[0m\n",
            "\u001b[31mERROR: google-colab 1.0.0 has requirement google-auth~=1.4.0, but you'll have google-auth 1.7.1 which is incompatible.\u001b[0m\n",
            "Installing collected packages: tensorflow-estimator, google-auth, tensorboard, tensorflow-gpu\n",
            "  Found existing installation: tensorflow-estimator 1.15.1\n",
            "    Uninstalling tensorflow-estimator-1.15.1:\n",
            "      Successfully uninstalled tensorflow-estimator-1.15.1\n",
            "  Found existing installation: google-auth 1.4.2\n",
            "    Uninstalling google-auth-1.4.2:\n",
            "      Successfully uninstalled google-auth-1.4.2\n",
            "  Found existing installation: tensorboard 1.15.0\n",
            "    Uninstalling tensorboard-1.15.0:\n",
            "      Successfully uninstalled tensorboard-1.15.0\n",
            "Successfully installed google-auth-1.7.1 tensorboard-2.0.2 tensorflow-estimator-2.0.1 tensorflow-gpu-2.0.0\n"
          ],
          "name": "stdout"
        },
        {
          "output_type": "display_data",
          "data": {
            "application/vnd.colab-display-data+json": {
              "pip_warning": {
                "packages": [
                  "google"
                ]
              }
            }
          },
          "metadata": {
            "tags": []
          }
        }
      ]
    },
    {
      "cell_type": "code",
      "metadata": {
        "colab_type": "code",
        "id": "KkwXnw9OfHZl",
        "outputId": "dd7fdb41-2fab-4fa2-ebb9-267712a82304",
        "colab": {
          "base_uri": "https://localhost:8080/",
          "height": 51
        }
      },
      "source": [
        "import numpy as np\n",
        "import tensorflow as tf\n",
        "\n",
        "from tensorflow.keras import backend as K\n",
        "import time\n",
        "import matplotlib.pyplot as plt\n",
        "\n",
        "% matplotlib inline\n",
        "np.random.seed(2017) \n",
        "from tensorflow.keras.models import Sequential\n",
        "from tensorflow.keras.layers import Conv2D, MaxPool2D, Activation, Flatten, Dense, Dropout, BatchNormalization, SeparableConv2D, GlobalAveragePooling2D\n",
        "from tensorflow.keras import utils\n",
        "\n",
        "from tensorflow.keras.datasets import cifar10\n",
        "\n",
        "print(tf.version.VERSION)\n",
        "print(tf.keras.__version__)"
      ],
      "execution_count": 0,
      "outputs": [
        {
          "output_type": "stream",
          "text": [
            "2.0.0\n",
            "2.2.4-tf\n"
          ],
          "name": "stdout"
        }
      ]
    },
    {
      "cell_type": "code",
      "metadata": {
        "colab_type": "code",
        "id": "z0-1egk7wI6S",
        "colab": {}
      },
      "source": [
        "\n",
        "#tf.compat.v1.enable_eager_execution()\n",
        "tf.compat.v1.disable_eager_execution()"
      ],
      "execution_count": 0,
      "outputs": []
    },
    {
      "cell_type": "code",
      "metadata": {
        "colab_type": "code",
        "id": "NHpnoCHZfO8g",
        "outputId": "ef239bc9-2778-4791-9c1c-b9cefb65b848",
        "colab": {
          "base_uri": "https://localhost:8080/",
          "height": 51
        }
      },
      "source": [
        "\n",
        "(train_features, train_labels), (test_features, test_labels) = cifar10.load_data()\n",
        "num_train, img_channels, img_rows, img_cols =  train_features.shape\n",
        "num_test, _, _, _ =  test_features.shape\n",
        "num_classes = len(np.unique(train_labels))"
      ],
      "execution_count": 0,
      "outputs": [
        {
          "output_type": "stream",
          "text": [
            "Downloading data from https://www.cs.toronto.edu/~kriz/cifar-10-python.tar.gz\n",
            "170500096/170498071 [==============================] - 11s 0us/step\n"
          ],
          "name": "stdout"
        }
      ]
    },
    {
      "cell_type": "code",
      "metadata": {
        "colab_type": "code",
        "id": "14HyBUXdfS6G",
        "outputId": "6b36dd16-6bdf-4f32-eac7-084a5605d986",
        "colab": {
          "base_uri": "https://localhost:8080/",
          "height": 213
        }
      },
      "source": [
        "class_names = ['airplane','automobile','bird','cat','deer',\n",
        "               'dog','frog','horse','ship','truck']\n",
        "fig = plt.figure(figsize=(8,3))\n",
        "for i in range(num_classes):\n",
        "    ax = fig.add_subplot(2, 5, 1 + i, xticks=[], yticks=[])\n",
        "    idx = np.where(train_labels[:]==i)[0]\n",
        "    features_idx = train_features[idx,::]\n",
        "    img_num = np.random.randint(features_idx.shape[0])\n",
        "    im = features_idx[img_num]\n",
        "    ax.set_title(class_names[i])\n",
        "    plt.imshow(im)\n",
        "plt.show()"
      ],
      "execution_count": 0,
      "outputs": [
        {
          "output_type": "display_data",
          "data": {
            "image/png": "[encoded data removed]",
            "text/plain": [
              "<Figure size 576x216 with 10 Axes>"
            ]
          },
          "metadata": {
            "tags": []
          }
        }
      ]
    },
    {
      "cell_type": "code",
      "metadata": {
        "colab_type": "code",
        "id": "bmfsk76-fadV",
        "colab": {}
      },
      "source": [
        "def plot_model_history(model_history):\n",
        "    fig, axs = plt.subplots(1,2,figsize=(15,5))\n",
        "    # summarize history for accuracy\n",
        "    axs[0].plot(range(1,len(model_history.history['accuracy'])+1),model_history.history['accuracy'])\n",
        "    axs[0].plot(range(1,len(model_history.history['val_accuracy'])+1),model_history.history['val_accuracy'])\n",
        "    axs[0].set_title('Model Accuracy')\n",
        "    axs[0].set_ylabel('Accuracy')\n",
        "    axs[0].set_xlabel('Epoch')\n",
        "    axs[0].set_xticks(np.arange(1,len(model_history.history['accuracy'])+1),len(model_history.history['accuracy'])/10)\n",
        "    axs[0].legend(['train', 'val'], loc='best')\n",
        "    # summarize history for loss\n",
        "    axs[1].plot(range(1,len(model_history.history['loss'])+1),model_history.history['loss'])\n",
        "    axs[1].plot(range(1,len(model_history.history['val_loss'])+1),model_history.history['val_loss'])\n",
        "    axs[1].set_title('Model Loss')\n",
        "    axs[1].set_ylabel('Loss')\n",
        "    axs[1].set_xlabel('Epoch')\n",
        "    axs[1].set_xticks(np.arange(1,len(model_history.history['loss'])+1),len(model_history.history['loss'])/10)\n",
        "    axs[1].legend(['train', 'val'], loc='best')\n",
        "    plt.show()"
      ],
      "execution_count": 0,
      "outputs": []
    },
    {
      "cell_type": "code",
      "metadata": {
        "colab_type": "code",
        "id": "YJMT4rjgfdZz",
        "colab": {}
      },
      "source": [
        "def accuracy(test_x, test_y, model):\n",
        "    result = model.predict(test_x)\n",
        "    predicted_class = np.argmax(result, axis=1)\n",
        "    true_class = np.argmax(test_y, axis=1)\n",
        "    num_correct = np.sum(predicted_class == true_class) \n",
        "    accuracy = float(num_correct)/result.shape[0]\n",
        "    return (accuracy * 100)"
      ],
      "execution_count": 0,
      "outputs": []
    },
    {
      "cell_type": "code",
      "metadata": {
        "colab_type": "code",
        "id": "T5c5nDvxm6zR",
        "colab": {}
      },
      "source": [
        "train_features = train_features.astype('float32')/255\n",
        "test_features = test_features.astype('float32')/255\n",
        "# convert class labels to binary class labels\n",
        "train_labels = utils.to_categorical(train_labels, num_classes)\n",
        "test_labels = utils.to_categorical(test_labels, num_classes)"
      ],
      "execution_count": 0,
      "outputs": []
    },
    {
      "cell_type": "code",
      "metadata": {
        "colab_type": "code",
        "id": "cSOb2lkJfhVq",
        "outputId": "ae75b67f-58c3-4674-9129-a59dc5b2bf27",
        "colab": {
          "base_uri": "https://localhost:8080/",
          "height": 88
        }
      },
      "source": [
        "# Define the model\n",
        "model = Sequential()\n",
        "\n",
        "model.add(Conv2D(filters = 48, kernel_size = (3, 3), padding = 'same', input_shape=(32, 32, 3), use_bias = False))\n",
        "model.add(Activation('relu'))\n",
        "model.add(Conv2D(filters = 48, kernel_size = (3, 3)))\n",
        "model.add(Activation('relu'))\n",
        "model.add(MaxPool2D(pool_size=(2, 2)))\n",
        "model.add(Dropout(0.25))\n",
        "model.add(Conv2D(filters = 96, kernel_size = (3, 3), padding = 'same'))\n",
        "model.add(Activation('relu'))\n",
        "model.add(Conv2D(filters = 96, kernel_size = (3, 3)))\n",
        "model.add(Activation('relu'))\n",
        "model.add(MaxPool2D(pool_size=(2, 2)))\n",
        "model.add(Dropout(0.25))\n",
        "model.add(Conv2D(filters = 192, kernel_size = (3, 3), padding = 'same'))\n",
        "model.add(Activation('relu'))\n",
        "model.add(Conv2D(filters = 192, kernel_size = (3, 3)))\n",
        "model.add(Activation('relu'))\n",
        "model.add(MaxPool2D(pool_size=(2, 2)))\n",
        "model.add(Dropout(0.25))\n",
        "model.add(Flatten())\n",
        "model.add(Dense(512))\n",
        "model.add(Activation('relu'))\n",
        "model.add(Dropout(0.5))\n",
        "model.add(Dense(256))\n",
        "model.add(Activation('relu'))\n",
        "model.add(Dropout(0.5))\n",
        "model.add(Dense(num_classes, activation='softmax'))\n",
        "# Compile the model\n",
        "model.compile(optimizer='adam', loss='categorical_crossentropy', metrics=['accuracy'])\n"
      ],
      "execution_count": 0,
      "outputs": [
        {
          "output_type": "stream",
          "text": [
            "WARNING:tensorflow:From /usr/local/lib/python3.6/dist-packages/tensorflow_core/python/ops/resource_variable_ops.py:1630: calling BaseResourceVariable.__init__ (from tensorflow.python.ops.resource_variable_ops) with constraint is deprecated and will be removed in a future version.\n",
            "Instructions for updating:\n",
            "If using Keras pass *_constraint arguments to layers.\n"
          ],
          "name": "stdout"
        }
      ]
    },
    {
      "cell_type": "code",
      "metadata": {
        "colab_type": "code",
        "id": "wvVs5tC8mR6Q",
        "outputId": "2f10d258-c108-4362-9845-3f7de658c97b",
        "colab": {
          "base_uri": "https://localhost:8080/",
          "height": 1000
        }
      },
      "source": [
        "model.summary()"
      ],
      "execution_count": 0,
      "outputs": [
        {
          "output_type": "stream",
          "text": [
            "Model: \"sequential\"\n",
            "_________________________________________________________________\n",
            "Layer (type)                 Output Shape              Param #   \n",
            "=================================================================\n",
            "conv2d (Conv2D)              (None, 32, 32, 48)        1296      \n",
            "_________________________________________________________________\n",
            "activation (Activation)      (None, 32, 32, 48)        0         \n",
            "_________________________________________________________________\n",
            "conv2d_1 (Conv2D)            (None, 30, 30, 48)        20784     \n",
            "_________________________________________________________________\n",
            "activation_1 (Activation)    (None, 30, 30, 48)        0         \n",
            "_________________________________________________________________\n",
            "max_pooling2d (MaxPooling2D) (None, 15, 15, 48)        0         \n",
            "_________________________________________________________________\n",
            "dropout (Dropout)            (None, 15, 15, 48)        0         \n",
            "_________________________________________________________________\n",
            "conv2d_2 (Conv2D)            (None, 15, 15, 96)        41568     \n",
            "_________________________________________________________________\n",
            "activation_2 (Activation)    (None, 15, 15, 96)        0         \n",
            "_________________________________________________________________\n",
            "conv2d_3 (Conv2D)            (None, 13, 13, 96)        83040     \n",
            "_________________________________________________________________\n",
            "activation_3 (Activation)    (None, 13, 13, 96)        0         \n",
            "_________________________________________________________________\n",
            "max_pooling2d_1 (MaxPooling2 (None, 6, 6, 96)          0         \n",
            "_________________________________________________________________\n",
            "dropout_1 (Dropout)          (None, 6, 6, 96)          0         \n",
            "_________________________________________________________________\n",
            "conv2d_4 (Conv2D)            (None, 6, 6, 192)         166080    \n",
            "_________________________________________________________________\n",
            "activation_4 (Activation)    (None, 6, 6, 192)         0         \n",
            "_________________________________________________________________\n",
            "conv2d_5 (Conv2D)            (None, 4, 4, 192)         331968    \n",
            "_________________________________________________________________\n",
            "activation_5 (Activation)    (None, 4, 4, 192)         0         \n",
            "_________________________________________________________________\n",
            "max_pooling2d_2 (MaxPooling2 (None, 2, 2, 192)         0         \n",
            "_________________________________________________________________\n",
            "dropout_2 (Dropout)          (None, 2, 2, 192)         0         \n",
            "_________________________________________________________________\n",
            "flatten (Flatten)            (None, 768)               0         \n",
            "_________________________________________________________________\n",
            "dense (Dense)                (None, 512)               393728    \n",
            "_________________________________________________________________\n",
            "activation_6 (Activation)    (None, 512)               0         \n",
            "_________________________________________________________________\n",
            "dropout_3 (Dropout)          (None, 512)               0         \n",
            "_________________________________________________________________\n",
            "dense_1 (Dense)              (None, 256)               131328    \n",
            "_________________________________________________________________\n",
            "activation_7 (Activation)    (None, 256)               0         \n",
            "_________________________________________________________________\n",
            "dropout_4 (Dropout)          (None, 256)               0         \n",
            "_________________________________________________________________\n",
            "dense_2 (Dense)              (None, 10)                2570      \n",
            "=================================================================\n",
            "Total params: 1,172,362\n",
            "Trainable params: 1,172,362\n",
            "Non-trainable params: 0\n",
            "_________________________________________________________________\n"
          ],
          "name": "stdout"
        }
      ]
    },
    {
      "cell_type": "code",
      "metadata": {
        "colab_type": "code",
        "id": "5oK_V7WyfsXX",
        "outputId": "07e895af-e7d7-4cfa-c5a0-97ea6d7e0d15",
        "colab": {
          "base_uri": "https://localhost:8080/",
          "height": 1000
        }
      },
      "source": [
        "from keras.preprocessing.image import ImageDataGenerator\n",
        "\n",
        "datagen = ImageDataGenerator(zoom_range=0.0, \n",
        "                             horizontal_flip=False)\n",
        "\n",
        "\n",
        "# train the model\n",
        "start = time.time()\n",
        "# Train the model\n",
        "model_info = model.fit_generator(datagen.flow(train_features, train_labels, batch_size = 128),\n",
        "                                epochs = 50, \n",
        "                                 validation_data = (test_features, test_labels), verbose=1)\n",
        "end = time.time()\n",
        "print (\"Model took %0.2f seconds to train\"%(end - start))\n",
        "# plot model history\n",
        "plot_model_history(model_info)\n",
        "# compute test accuracy\n",
        "print (\"Accuracy on test data is: %0.2f\"%accuracy(test_features, test_labels, model))"
      ],
      "execution_count": 0,
      "outputs": [
        {
          "output_type": "stream",
          "text": [
            "Using TensorFlow backend.\n"
          ],
          "name": "stderr"
        },
        {
          "output_type": "stream",
          "text": [
            "Epoch 1/50\n",
            "391/391 [==============================] - 25s 64ms/step - loss: 2.0069 - accuracy: 0.2191 - val_loss: 1.6541 - val_accuracy: 0.3766\n",
            "Epoch 2/50\n",
            "391/391 [==============================] - 19s 50ms/step - loss: 1.4930 - accuracy: 0.4542 - val_loss: 1.2591 - val_accuracy: 0.5460\n",
            "Epoch 3/50\n",
            "391/391 [==============================] - 19s 49ms/step - loss: 1.2025 - accuracy: 0.5718 - val_loss: 1.0125 - val_accuracy: 0.6452\n",
            "Epoch 4/50\n",
            "391/391 [==============================] - 19s 49ms/step - loss: 1.0386 - accuracy: 0.6374 - val_loss: 0.9054 - val_accuracy: 0.6820\n",
            "Epoch 5/50\n",
            "391/391 [==============================] - 19s 49ms/step - loss: 0.9240 - accuracy: 0.6779 - val_loss: 0.8456 - val_accuracy: 0.7129\n",
            "Epoch 6/50\n",
            "391/391 [==============================] - 19s 49ms/step - loss: 0.8478 - accuracy: 0.7080 - val_loss: 0.7761 - val_accuracy: 0.7327\n",
            "Epoch 7/50\n",
            "391/391 [==============================] - 19s 49ms/step - loss: 0.7935 - accuracy: 0.7291 - val_loss: 0.7540 - val_accuracy: 0.7451\n",
            "Epoch 8/50\n",
            "391/391 [==============================] - 19s 49ms/step - loss: 0.7513 - accuracy: 0.7423 - val_loss: 0.6853 - val_accuracy: 0.7643\n",
            "Epoch 9/50\n",
            "391/391 [==============================] - 19s 49ms/step - loss: 0.7037 - accuracy: 0.7603 - val_loss: 0.6527 - val_accuracy: 0.7778\n",
            "Epoch 10/50\n",
            "391/391 [==============================] - 19s 49ms/step - loss: 0.6771 - accuracy: 0.7714 - val_loss: 0.6486 - val_accuracy: 0.7799\n",
            "Epoch 11/50\n",
            "391/391 [==============================] - 19s 49ms/step - loss: 0.6518 - accuracy: 0.7792 - val_loss: 0.6830 - val_accuracy: 0.7717\n",
            "Epoch 12/50\n",
            "391/391 [==============================] - 19s 49ms/step - loss: 0.6215 - accuracy: 0.7906 - val_loss: 0.6351 - val_accuracy: 0.7823\n",
            "Epoch 13/50\n",
            "391/391 [==============================] - 19s 49ms/step - loss: 0.6004 - accuracy: 0.7960 - val_loss: 0.6206 - val_accuracy: 0.7922\n",
            "Epoch 14/50\n",
            "391/391 [==============================] - 19s 49ms/step - loss: 0.5827 - accuracy: 0.8036 - val_loss: 0.6211 - val_accuracy: 0.7923\n",
            "Epoch 15/50\n",
            "391/391 [==============================] - 19s 49ms/step - loss: 0.5608 - accuracy: 0.8095 - val_loss: 0.6003 - val_accuracy: 0.8010\n",
            "Epoch 16/50\n",
            "391/391 [==============================] - 19s 49ms/step - loss: 0.5494 - accuracy: 0.8119 - val_loss: 0.6029 - val_accuracy: 0.7989\n",
            "Epoch 17/50\n",
            "391/391 [==============================] - 19s 49ms/step - loss: 0.5516 - accuracy: 0.8134 - val_loss: 0.5782 - val_accuracy: 0.8074\n",
            "Epoch 18/50\n",
            "391/391 [==============================] - 19s 50ms/step - loss: 0.5246 - accuracy: 0.8191 - val_loss: 0.5850 - val_accuracy: 0.8103\n",
            "Epoch 19/50\n",
            "391/391 [==============================] - 19s 49ms/step - loss: 0.5151 - accuracy: 0.8248 - val_loss: 0.6053 - val_accuracy: 0.7971\n",
            "Epoch 20/50\n",
            "391/391 [==============================] - 19s 50ms/step - loss: 0.5047 - accuracy: 0.8273 - val_loss: 0.5660 - val_accuracy: 0.8121\n",
            "Epoch 21/50\n",
            "391/391 [==============================] - 19s 49ms/step - loss: 0.4941 - accuracy: 0.8318 - val_loss: 0.5764 - val_accuracy: 0.8118\n",
            "Epoch 22/50\n",
            "391/391 [==============================] - 19s 49ms/step - loss: 0.4774 - accuracy: 0.8376 - val_loss: 0.5582 - val_accuracy: 0.8164\n",
            "Epoch 23/50\n",
            "391/391 [==============================] - 19s 50ms/step - loss: 0.4715 - accuracy: 0.8393 - val_loss: 0.5711 - val_accuracy: 0.8167\n",
            "Epoch 24/50\n",
            "391/391 [==============================] - 19s 50ms/step - loss: 0.4652 - accuracy: 0.8427 - val_loss: 0.5725 - val_accuracy: 0.8145\n",
            "Epoch 25/50\n",
            "391/391 [==============================] - 20s 50ms/step - loss: 0.4496 - accuracy: 0.8469 - val_loss: 0.5786 - val_accuracy: 0.8143\n",
            "Epoch 26/50\n",
            "391/391 [==============================] - 20s 51ms/step - loss: 0.4493 - accuracy: 0.8458 - val_loss: 0.6243 - val_accuracy: 0.8019\n",
            "Epoch 27/50\n",
            "391/391 [==============================] - 20s 51ms/step - loss: 0.4396 - accuracy: 0.8512 - val_loss: 0.5769 - val_accuracy: 0.8113\n",
            "Epoch 28/50\n",
            "391/391 [==============================] - 20s 51ms/step - loss: 0.4313 - accuracy: 0.8519 - val_loss: 0.5721 - val_accuracy: 0.8221\n",
            "Epoch 29/50\n",
            "391/391 [==============================] - 20s 51ms/step - loss: 0.4368 - accuracy: 0.8513 - val_loss: 0.5933 - val_accuracy: 0.8119\n",
            "Epoch 30/50\n",
            "391/391 [==============================] - 20s 50ms/step - loss: 0.4173 - accuracy: 0.8560 - val_loss: 0.5827 - val_accuracy: 0.8150\n",
            "Epoch 31/50\n",
            "391/391 [==============================] - 20s 51ms/step - loss: 0.4123 - accuracy: 0.8586 - val_loss: 0.5858 - val_accuracy: 0.8217\n",
            "Epoch 32/50\n",
            "391/391 [==============================] - 20s 50ms/step - loss: 0.4151 - accuracy: 0.8577 - val_loss: 0.5674 - val_accuracy: 0.8231\n",
            "Epoch 33/50\n",
            "391/391 [==============================] - 19s 49ms/step - loss: 0.3995 - accuracy: 0.8643 - val_loss: 0.5943 - val_accuracy: 0.8154\n",
            "Epoch 34/50\n",
            "391/391 [==============================] - 19s 50ms/step - loss: 0.3868 - accuracy: 0.8668 - val_loss: 0.5811 - val_accuracy: 0.8183\n",
            "Epoch 35/50\n",
            "391/391 [==============================] - 19s 50ms/step - loss: 0.3910 - accuracy: 0.8678 - val_loss: 0.5555 - val_accuracy: 0.8230\n",
            "Epoch 36/50\n",
            "391/391 [==============================] - 20s 50ms/step - loss: 0.3867 - accuracy: 0.8697 - val_loss: 0.5685 - val_accuracy: 0.8259\n",
            "Epoch 37/50\n",
            "391/391 [==============================] - 19s 49ms/step - loss: 0.3919 - accuracy: 0.8660 - val_loss: 0.5972 - val_accuracy: 0.8175\n",
            "Epoch 38/50\n",
            "391/391 [==============================] - 19s 49ms/step - loss: 0.3800 - accuracy: 0.8693 - val_loss: 0.5757 - val_accuracy: 0.8218\n",
            "Epoch 39/50\n",
            "391/391 [==============================] - 19s 49ms/step - loss: 0.3740 - accuracy: 0.8740 - val_loss: 0.5755 - val_accuracy: 0.8236\n",
            "Epoch 40/50\n",
            "391/391 [==============================] - 19s 49ms/step - loss: 0.3678 - accuracy: 0.8759 - val_loss: 0.5680 - val_accuracy: 0.8161\n",
            "Epoch 41/50\n",
            "391/391 [==============================] - 19s 49ms/step - loss: 0.3779 - accuracy: 0.8715 - val_loss: 0.5916 - val_accuracy: 0.8135\n",
            "Epoch 42/50\n",
            "391/391 [==============================] - 19s 49ms/step - loss: 0.3610 - accuracy: 0.8782 - val_loss: 0.5656 - val_accuracy: 0.8262\n",
            "Epoch 43/50\n",
            "391/391 [==============================] - 20s 50ms/step - loss: 0.3559 - accuracy: 0.8793 - val_loss: 0.5706 - val_accuracy: 0.8282\n",
            "Epoch 44/50\n",
            "391/391 [==============================] - 19s 50ms/step - loss: 0.3682 - accuracy: 0.8769 - val_loss: 0.5732 - val_accuracy: 0.8225\n",
            "Epoch 45/50\n",
            "391/391 [==============================] - 19s 50ms/step - loss: 0.3522 - accuracy: 0.8807 - val_loss: 0.5567 - val_accuracy: 0.8249\n",
            "Epoch 46/50\n",
            "391/391 [==============================] - 20s 51ms/step - loss: 0.3533 - accuracy: 0.8809 - val_loss: 0.5797 - val_accuracy: 0.8235\n",
            "Epoch 47/50\n",
            "391/391 [==============================] - 20s 51ms/step - loss: 0.3399 - accuracy: 0.8848 - val_loss: 0.5834 - val_accuracy: 0.8215\n",
            "Epoch 48/50\n",
            "391/391 [==============================] - 20s 50ms/step - loss: 0.3537 - accuracy: 0.8824 - val_loss: 0.5747 - val_accuracy: 0.8240\n",
            "Epoch 49/50\n",
            "391/391 [==============================] - 20s 51ms/step - loss: 0.3505 - accuracy: 0.8829 - val_loss: 0.6282 - val_accuracy: 0.8078\n",
            "Epoch 50/50\n",
            "391/391 [==============================] - 20s 51ms/step - loss: 0.3405 - accuracy: 0.8839 - val_loss: 0.5748 - val_accuracy: 0.8278\n",
            "Model took 978.87 seconds to train\n"
          ],
          "name": "stdout"
        },
        {
          "output_type": "display_data",
          "data": {
            "image/png": "[encoded data removed]",
            "text/plain": [
              "<Figure size 1080x360 with 2 Axes>"
            ]
          },
          "metadata": {
            "tags": []
          }
        },
        {
          "output_type": "stream",
          "text": [
            "Accuracy on test data is: 82.78\n"
          ],
          "name": "stdout"
        }
      ]
    },
    {
      "cell_type": "code",
      "metadata": {
        "colab_type": "code",
        "id": "0yYIJc8xzApI",
        "colab": {}
      },
      "source": [
        ""
      ],
      "execution_count": 0,
      "outputs": []
    },
    {
      "cell_type": "code",
      "metadata": {
        "colab_type": "code",
        "id": "TVgpXgcTRKwW",
        "colab": {}
      },
      "source": [
        "\n",
        "\n",
        "# Define the model\n",
        "model = Sequential()\n",
        "\n",
        "model.add(SeparableConv2D(filters = 48, kernel_size = (3, 3), padding = 'same', input_shape=(32, 32, 3), use_bias = False)) # Receptive field 3x3, Output Channel Size 32x32\n",
        "model.add(Activation('relu'))\n",
        "model.add(BatchNormalization())\n",
        "\n",
        "model.add(SeparableConv2D(filters = 96, kernel_size = (3, 3), padding = 'same', use_bias = False)) # Receptive field 5x5, Output Channel Size 32x32\n",
        "model.add(Activation('relu'))\n",
        "model.add(BatchNormalization())\n",
        "\n",
        "model.add(SeparableConv2D(filters = 192, kernel_size = (3, 3), padding = 'same', use_bias = False)) # Receptive field 7x7, Output Channel Size 32x32\n",
        "model.add(Activation('relu'))\n",
        "model.add(BatchNormalization())\n",
        "\n",
        "model.add(SeparableConv2D(filters = 32, kernel_size = (1, 1), padding = 'same', use_bias = False)) # Receptive field 7x7, Output Channel Size  32x32\n",
        "model.add(Activation('relu'))\n",
        "model.add(BatchNormalization())\n",
        "\n",
        "model.add(MaxPool2D(pool_size=(2, 2))) # Receptive field 8x8, Output Channel Size  16x16\n",
        "model.add(Dropout(0.1))\n",
        "\n",
        "model.add(SeparableConv2D(filters = 48, kernel_size = (3, 3), padding = 'same', use_bias = False)) # Receptive field 12x12, Output Channel Size  16x16\n",
        "model.add(Activation('relu'))\n",
        "model.add(BatchNormalization())\n",
        "\n",
        "model.add(SeparableConv2D(filters = 96, kernel_size = (3, 3), padding = 'same', use_bias = False)) # Receptive field 16x16, Output Channel Size  16x16\n",
        "model.add(Activation('relu'))\n",
        "model.add(BatchNormalization())\n",
        "\n",
        "model.add(SeparableConv2D(filters = 192, kernel_size = (3, 3), padding = 'same', use_bias = False)) # Receptive field 20x20, Output Channel Size  16x16\n",
        "model.add(Activation('relu'))\n",
        "model.add(BatchNormalization())\n",
        "\n",
        "\n",
        "model.add(SeparableConv2D(filters = 32, kernel_size = (1, 1), padding = 'same', use_bias = False))  # Receptive field 20x20, Output Channel Size  16x16\n",
        "model.add(Activation('relu'))\n",
        "model.add(BatchNormalization())\n",
        "\n",
        "model.add(MaxPool2D(pool_size=(2, 2)))  # Receptive field 22x22, Output Channel Size  8x8\n",
        "model.add(Dropout(0.1))\n",
        "\n",
        "\n",
        "model.add(SeparableConv2D(filters = 48, kernel_size = (3, 3), padding = 'same', use_bias = False)) # Receptive field 30x30, Output Channel Size  8x8\n",
        "model.add(Activation('relu'))\n",
        "model.add(BatchNormalization())\n",
        "\n",
        "model.add(SeparableConv2D(filters = 96, kernel_size = (3, 3), padding = 'same', use_bias = False)) # Receptive field 38x38, Output Channel Size  8x8\n",
        "model.add(Activation('relu'))\n",
        "model.add(BatchNormalization())\n",
        "\n",
        "model.add(SeparableConv2D(filters = 192, kernel_size = (3, 3), padding = 'same', use_bias = False)) # Receptive field 46x46, Output Channel Size  8x8\n",
        "model.add(Activation('relu'))\n",
        "model.add(BatchNormalization())\n",
        "\n",
        "model.add(MaxPool2D(pool_size=(2, 2))) # Receptive field 50x50, Output Channel Size  4x4\n",
        "model.add(Dropout(0.1))\n",
        "\n",
        "model.add(SeparableConv2D(filters = 10, kernel_size = (1, 1), padding = 'same', use_bias = False)) # Receptive field 50x50, Output Channel Size  4x4\n",
        "\n",
        "model.add(GlobalAveragePooling2D())\n",
        "model.add(Dense(num_classes, activation='softmax'))\n",
        "# Compile the model\n",
        "model.compile(optimizer='adam', loss='categorical_crossentropy', metrics=['accuracy'])"
      ],
      "execution_count": 0,
      "outputs": []
    },
    {
      "cell_type": "code",
      "metadata": {
        "colab_type": "code",
        "id": "G_AU77dfSKUP",
        "outputId": "187077e8-903c-4a06-b88b-6fd7741277bb",
        "colab": {
          "base_uri": "https://localhost:8080/",
          "height": 1000
        }
      },
      "source": [
        "model.summary()"
      ],
      "execution_count": 0,
      "outputs": [
        {
          "output_type": "stream",
          "text": [
            "Model: \"sequential_6\"\n",
            "_________________________________________________________________\n",
            "Layer (type)                 Output Shape              Param #   \n",
            "=================================================================\n",
            "separable_conv2d_59 (Separab (None, 32, 32, 48)        171       \n",
            "_________________________________________________________________\n",
            "activation_62 (Activation)   (None, 32, 32, 48)        0         \n",
            "_________________________________________________________________\n",
            "batch_normalization_56 (Batc (None, 32, 32, 48)        192       \n",
            "_________________________________________________________________\n",
            "separable_conv2d_60 (Separab (None, 32, 32, 96)        5040      \n",
            "_________________________________________________________________\n",
            "activation_63 (Activation)   (None, 32, 32, 96)        0         \n",
            "_________________________________________________________________\n",
            "batch_normalization_57 (Batc (None, 32, 32, 96)        384       \n",
            "_________________________________________________________________\n",
            "separable_conv2d_61 (Separab (None, 32, 32, 192)       19296     \n",
            "_________________________________________________________________\n",
            "activation_64 (Activation)   (None, 32, 32, 192)       0         \n",
            "_________________________________________________________________\n",
            "batch_normalization_58 (Batc (None, 32, 32, 192)       768       \n",
            "_________________________________________________________________\n",
            "separable_conv2d_62 (Separab (None, 32, 32, 32)        6336      \n",
            "_________________________________________________________________\n",
            "activation_65 (Activation)   (None, 32, 32, 32)        0         \n",
            "_________________________________________________________________\n",
            "batch_normalization_59 (Batc (None, 32, 32, 32)        128       \n",
            "_________________________________________________________________\n",
            "max_pooling2d_18 (MaxPooling (None, 16, 16, 32)        0         \n",
            "_________________________________________________________________\n",
            "dropout_24 (Dropout)         (None, 16, 16, 32)        0         \n",
            "_________________________________________________________________\n",
            "separable_conv2d_63 (Separab (None, 16, 16, 48)        1824      \n",
            "_________________________________________________________________\n",
            "activation_66 (Activation)   (None, 16, 16, 48)        0         \n",
            "_________________________________________________________________\n",
            "batch_normalization_60 (Batc (None, 16, 16, 48)        192       \n",
            "_________________________________________________________________\n",
            "separable_conv2d_64 (Separab (None, 16, 16, 96)        5040      \n",
            "_________________________________________________________________\n",
            "activation_67 (Activation)   (None, 16, 16, 96)        0         \n",
            "_________________________________________________________________\n",
            "batch_normalization_61 (Batc (None, 16, 16, 96)        384       \n",
            "_________________________________________________________________\n",
            "separable_conv2d_65 (Separab (None, 16, 16, 192)       19296     \n",
            "_________________________________________________________________\n",
            "activation_68 (Activation)   (None, 16, 16, 192)       0         \n",
            "_________________________________________________________________\n",
            "batch_normalization_62 (Batc (None, 16, 16, 192)       768       \n",
            "_________________________________________________________________\n",
            "separable_conv2d_66 (Separab (None, 16, 16, 32)        6336      \n",
            "_________________________________________________________________\n",
            "activation_69 (Activation)   (None, 16, 16, 32)        0         \n",
            "_________________________________________________________________\n",
            "batch_normalization_63 (Batc (None, 16, 16, 32)        128       \n",
            "_________________________________________________________________\n",
            "max_pooling2d_19 (MaxPooling (None, 8, 8, 32)          0         \n",
            "_________________________________________________________________\n",
            "dropout_25 (Dropout)         (None, 8, 8, 32)          0         \n",
            "_________________________________________________________________\n",
            "separable_conv2d_67 (Separab (None, 8, 8, 48)          1824      \n",
            "_________________________________________________________________\n",
            "activation_70 (Activation)   (None, 8, 8, 48)          0         \n",
            "_________________________________________________________________\n",
            "batch_normalization_64 (Batc (None, 8, 8, 48)          192       \n",
            "_________________________________________________________________\n",
            "separable_conv2d_68 (Separab (None, 8, 8, 96)          5040      \n",
            "_________________________________________________________________\n",
            "activation_71 (Activation)   (None, 8, 8, 96)          0         \n",
            "_________________________________________________________________\n",
            "batch_normalization_65 (Batc (None, 8, 8, 96)          384       \n",
            "_________________________________________________________________\n",
            "separable_conv2d_69 (Separab (None, 8, 8, 192)         19296     \n",
            "_________________________________________________________________\n",
            "activation_72 (Activation)   (None, 8, 8, 192)         0         \n",
            "_________________________________________________________________\n",
            "batch_normalization_66 (Batc (None, 8, 8, 192)         768       \n",
            "_________________________________________________________________\n",
            "max_pooling2d_20 (MaxPooling (None, 4, 4, 192)         0         \n",
            "_________________________________________________________________\n",
            "dropout_26 (Dropout)         (None, 4, 4, 192)         0         \n",
            "_________________________________________________________________\n",
            "separable_conv2d_70 (Separab (None, 4, 4, 10)          2112      \n",
            "_________________________________________________________________\n",
            "global_average_pooling2d_2 ( (None, 10)                0         \n",
            "_________________________________________________________________\n",
            "dense_11 (Dense)             (None, 10)                110       \n",
            "=================================================================\n",
            "Total params: 96,009\n",
            "Trainable params: 93,865\n",
            "Non-trainable params: 2,144\n",
            "_________________________________________________________________\n"
          ],
          "name": "stdout"
        }
      ]
    },
    {
      "cell_type": "code",
      "metadata": {
        "colab_type": "code",
        "id": "AsGKetVcSaMD",
        "outputId": "16b9f491-4ffb-41f4-ec92-d5eca4976b3b",
        "colab": {
          "base_uri": "https://localhost:8080/",
          "height": 1000
        }
      },
      "source": [
        "from keras.preprocessing.image import ImageDataGenerator\n",
        "\n",
        "datagen = ImageDataGenerator(zoom_range=0.0, \n",
        "                             horizontal_flip=False)\n",
        "\n",
        "\n",
        "# train the model\n",
        "start = time.time()\n",
        "# Train the model\n",
        "model_info = model.fit_generator(datagen.flow(train_features, train_labels, batch_size = 128),\n",
        "                                epochs = 50, \n",
        "                                 validation_data = (test_features, test_labels), verbose=1)\n",
        "end = time.time()\n",
        "print (\"Model took %0.2f seconds to train\"%(end - start))\n",
        "# plot model history\n",
        "plot_model_history(model_info)\n",
        "# compute test accuracy\n",
        "print (\"Accuracy on test data is: %0.2f\"%accuracy(test_features, test_labels, model))"
      ],
      "execution_count": 0,
      "outputs": [
        {
          "output_type": "stream",
          "text": [
            "Epoch 1/50\n",
            "391/391 [==============================] - 60s 155ms/step - loss: 1.4292 - accuracy: 0.4694 - val_loss: 2.7272 - val_accuracy: 0.1000\n",
            "Epoch 2/50\n",
            "391/391 [==============================] - 47s 121ms/step - loss: 1.0240 - accuracy: 0.6316 - val_loss: 1.0199 - val_accuracy: 0.6311\n",
            "Epoch 3/50\n",
            "391/391 [==============================] - 47s 121ms/step - loss: 0.8724 - accuracy: 0.6884 - val_loss: 0.8880 - val_accuracy: 0.6959\n",
            "Epoch 4/50\n",
            "391/391 [==============================] - 47s 121ms/step - loss: 0.7684 - accuracy: 0.7284 - val_loss: 0.8447 - val_accuracy: 0.7129\n",
            "Epoch 5/50\n",
            "391/391 [==============================] - 47s 121ms/step - loss: 0.6979 - accuracy: 0.7539 - val_loss: 0.7828 - val_accuracy: 0.7356\n",
            "Epoch 6/50\n",
            "391/391 [==============================] - 47s 120ms/step - loss: 0.6421 - accuracy: 0.7734 - val_loss: 0.6912 - val_accuracy: 0.7658\n",
            "Epoch 7/50\n",
            "391/391 [==============================] - 47s 121ms/step - loss: 0.5989 - accuracy: 0.7901 - val_loss: 0.7250 - val_accuracy: 0.7587\n",
            "Epoch 8/50\n",
            "391/391 [==============================] - 47s 121ms/step - loss: 0.5612 - accuracy: 0.8036 - val_loss: 0.6723 - val_accuracy: 0.7751\n",
            "Epoch 9/50\n",
            "391/391 [==============================] - 47s 121ms/step - loss: 0.5280 - accuracy: 0.8160 - val_loss: 0.6550 - val_accuracy: 0.7752\n",
            "Epoch 10/50\n",
            "391/391 [==============================] - 47s 120ms/step - loss: 0.5026 - accuracy: 0.8244 - val_loss: 0.6579 - val_accuracy: 0.7712\n",
            "Epoch 11/50\n",
            "391/391 [==============================] - 47s 120ms/step - loss: 0.4786 - accuracy: 0.8326 - val_loss: 0.6022 - val_accuracy: 0.7990\n",
            "Epoch 12/50\n",
            "391/391 [==============================] - 47s 120ms/step - loss: 0.4532 - accuracy: 0.8415 - val_loss: 0.6413 - val_accuracy: 0.7865\n",
            "Epoch 13/50\n",
            "391/391 [==============================] - 47s 121ms/step - loss: 0.4422 - accuracy: 0.8441 - val_loss: 0.5989 - val_accuracy: 0.8017\n",
            "Epoch 14/50\n",
            "391/391 [==============================] - 47s 121ms/step - loss: 0.4214 - accuracy: 0.8512 - val_loss: 0.6059 - val_accuracy: 0.8008\n",
            "Epoch 15/50\n",
            "391/391 [==============================] - 47s 120ms/step - loss: 0.3975 - accuracy: 0.8591 - val_loss: 0.6120 - val_accuracy: 0.7948\n",
            "Epoch 16/50\n",
            "391/391 [==============================] - 47s 120ms/step - loss: 0.3872 - accuracy: 0.8619 - val_loss: 0.5919 - val_accuracy: 0.8078\n",
            "Epoch 17/50\n",
            "391/391 [==============================] - 47s 120ms/step - loss: 0.3702 - accuracy: 0.8694 - val_loss: 0.5897 - val_accuracy: 0.8084\n",
            "Epoch 18/50\n",
            "391/391 [==============================] - 47s 120ms/step - loss: 0.3609 - accuracy: 0.8713 - val_loss: 0.5951 - val_accuracy: 0.8136\n",
            "Epoch 19/50\n",
            "391/391 [==============================] - 47s 120ms/step - loss: 0.3461 - accuracy: 0.8794 - val_loss: 0.5854 - val_accuracy: 0.8123\n",
            "Epoch 20/50\n",
            "391/391 [==============================] - 48s 122ms/step - loss: 0.3365 - accuracy: 0.8791 - val_loss: 0.5884 - val_accuracy: 0.8174\n",
            "Epoch 21/50\n",
            "391/391 [==============================] - 48s 122ms/step - loss: 0.3266 - accuracy: 0.8842 - val_loss: 0.6151 - val_accuracy: 0.8087\n",
            "Epoch 22/50\n",
            "391/391 [==============================] - 48s 122ms/step - loss: 0.3141 - accuracy: 0.8889 - val_loss: 0.6382 - val_accuracy: 0.8021\n",
            "Epoch 23/50\n",
            "391/391 [==============================] - 48s 122ms/step - loss: 0.3011 - accuracy: 0.8936 - val_loss: 0.6023 - val_accuracy: 0.8149\n",
            "Epoch 24/50\n",
            "391/391 [==============================] - 48s 122ms/step - loss: 0.2919 - accuracy: 0.8963 - val_loss: 0.6099 - val_accuracy: 0.8120\n",
            "Epoch 25/50\n",
            "391/391 [==============================] - 48s 122ms/step - loss: 0.2893 - accuracy: 0.8962 - val_loss: 0.6465 - val_accuracy: 0.8065\n",
            "Epoch 26/50\n",
            "391/391 [==============================] - 48s 122ms/step - loss: 0.2787 - accuracy: 0.8990 - val_loss: 0.6728 - val_accuracy: 0.8063\n",
            "Epoch 27/50\n",
            "391/391 [==============================] - 48s 122ms/step - loss: 0.2682 - accuracy: 0.9022 - val_loss: 0.6402 - val_accuracy: 0.8159\n",
            "Epoch 28/50\n",
            "391/391 [==============================] - 48s 121ms/step - loss: 0.2664 - accuracy: 0.9034 - val_loss: 0.5803 - val_accuracy: 0.8285\n",
            "Epoch 29/50\n",
            "391/391 [==============================] - 48s 122ms/step - loss: 0.2595 - accuracy: 0.9058 - val_loss: 0.6037 - val_accuracy: 0.8228\n",
            "Epoch 30/50\n",
            "391/391 [==============================] - 48s 122ms/step - loss: 0.2547 - accuracy: 0.9097 - val_loss: 0.6111 - val_accuracy: 0.8166\n",
            "Epoch 31/50\n",
            "391/391 [==============================] - 48s 122ms/step - loss: 0.2421 - accuracy: 0.9122 - val_loss: 0.6336 - val_accuracy: 0.8153\n",
            "Epoch 32/50\n",
            "391/391 [==============================] - 48s 122ms/step - loss: 0.2378 - accuracy: 0.9138 - val_loss: 0.6387 - val_accuracy: 0.8184\n",
            "Epoch 33/50\n",
            "391/391 [==============================] - 48s 122ms/step - loss: 0.2402 - accuracy: 0.9139 - val_loss: 0.6249 - val_accuracy: 0.8200\n",
            "Epoch 34/50\n",
            "391/391 [==============================] - 47s 120ms/step - loss: 0.2252 - accuracy: 0.9169 - val_loss: 0.6271 - val_accuracy: 0.8218\n",
            "Epoch 35/50\n",
            "391/391 [==============================] - 47s 120ms/step - loss: 0.2210 - accuracy: 0.9197 - val_loss: 0.6316 - val_accuracy: 0.8232\n",
            "Epoch 36/50\n",
            "391/391 [==============================] - 47s 120ms/step - loss: 0.2167 - accuracy: 0.9213 - val_loss: 0.6371 - val_accuracy: 0.8206\n",
            "Epoch 37/50\n",
            "391/391 [==============================] - 47s 120ms/step - loss: 0.2109 - accuracy: 0.9225 - val_loss: 0.6513 - val_accuracy: 0.8205\n",
            "Epoch 38/50\n",
            "391/391 [==============================] - 47s 120ms/step - loss: 0.2060 - accuracy: 0.9249 - val_loss: 0.7082 - val_accuracy: 0.8140\n",
            "Epoch 39/50\n",
            "391/391 [==============================] - 47s 120ms/step - loss: 0.2055 - accuracy: 0.9265 - val_loss: 0.6896 - val_accuracy: 0.8146\n",
            "Epoch 40/50\n",
            "391/391 [==============================] - 47s 120ms/step - loss: 0.2008 - accuracy: 0.9259 - val_loss: 0.6708 - val_accuracy: 0.8114\n",
            "Epoch 41/50\n",
            "391/391 [==============================] - 47s 120ms/step - loss: 0.1964 - accuracy: 0.9289 - val_loss: 0.7132 - val_accuracy: 0.8083\n",
            "Epoch 42/50\n",
            "391/391 [==============================] - 47s 120ms/step - loss: 0.1905 - accuracy: 0.9287 - val_loss: 0.6893 - val_accuracy: 0.8229\n",
            "Epoch 43/50\n",
            "391/391 [==============================] - 47s 120ms/step - loss: 0.1863 - accuracy: 0.9313 - val_loss: 0.7069 - val_accuracy: 0.8099\n",
            "Epoch 44/50\n",
            "391/391 [==============================] - 47s 120ms/step - loss: 0.1865 - accuracy: 0.9315 - val_loss: 0.7424 - val_accuracy: 0.8070\n",
            "Epoch 45/50\n",
            "391/391 [==============================] - 47s 120ms/step - loss: 0.1816 - accuracy: 0.9333 - val_loss: 0.6733 - val_accuracy: 0.8210\n",
            "Epoch 46/50\n",
            "391/391 [==============================] - 47s 120ms/step - loss: 0.1697 - accuracy: 0.9368 - val_loss: 0.6647 - val_accuracy: 0.8220\n",
            "Epoch 47/50\n",
            "391/391 [==============================] - 47s 120ms/step - loss: 0.1764 - accuracy: 0.9355 - val_loss: 0.6780 - val_accuracy: 0.8247\n",
            "Epoch 48/50\n",
            "391/391 [==============================] - 47s 120ms/step - loss: 0.1715 - accuracy: 0.9376 - val_loss: 0.6817 - val_accuracy: 0.8181\n",
            "Epoch 49/50\n",
            "391/391 [==============================] - 47s 120ms/step - loss: 0.1725 - accuracy: 0.9373 - val_loss: 0.7085 - val_accuracy: 0.8199\n",
            "Epoch 50/50\n",
            "391/391 [==============================] - 47s 120ms/step - loss: 0.1649 - accuracy: 0.9400 - val_loss: 0.6947 - val_accuracy: 0.8189\n",
            "Model took 2377.63 seconds to train\n"
          ],
          "name": "stdout"
        },
        {
          "output_type": "display_data",
          "data": {
            "image/png": "[encoded data removed]",
            "text/plain": [
              "<Figure size 1080x360 with 2 Axes>"
            ]
          },
          "metadata": {
            "tags": []
          }
        },
        {
          "output_type": "stream",
          "text": [
            "Accuracy on test data is: 81.89\n"
          ],
          "name": "stdout"
        }
      ]
    },
    {
      "cell_type": "code",
      "metadata": {
        "colab_type": "code",
        "id": "cNxJlGkpSn1B",
        "colab": {}
      },
      "source": [
        ""
      ],
      "execution_count": 0,
      "outputs": []
    }
  ]
}