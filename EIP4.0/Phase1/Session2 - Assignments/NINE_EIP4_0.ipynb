{
  "nbformat": 4,
  "nbformat_minor": 0,
  "metadata": {
    "accelerator": "GPU",
    "colab": {
      "name": "NINE_EIP4_0.ipynb",
      "provenance": [],
      "collapsed_sections": []
    },
    "kernelspec": {
      "display_name": "Python 3",
      "language": "python",
      "name": "python3"
    },
    "language_info": {
      "codemirror_mode": {
        "name": "ipython",
        "version": 3
      },
      "file_extension": ".py",
      "mimetype": "text/x-python",
      "name": "python",
      "nbconvert_exporter": "python",
      "pygments_lexer": "ipython3",
      "version": "3.6.9"
    }
  },
  "cells": [
    {
      "cell_type": "markdown",
      "metadata": {
        "colab_type": "text",
        "id": "LWfSl03Yghsy"
      },
      "source": [
        "<a href=\"https://colab.research.google.com/github/ksasi/EIP/blob/master/EIP4.0/Phase1/Session2%20-%20Assignments/NINE_EIP4_0.ipynb\" target=\"_parent\"><img src=\"https://colab.research.google.com/assets/colab-badge.svg\" alt=\"Open In Colab\"/></a>"
      ]
    },
    {
      "cell_type": "code",
      "metadata": {
        "colab_type": "code",
        "id": "WVX-8l1vzD7S",
        "outputId": "674cc099-9d9c-47ec-86d7-a75cc3b08c37",
        "colab": {
          "base_uri": "https://localhost:8080/",
          "height": 306
        }
      },
      "source": [
        "!nvidia-smi"
      ],
      "execution_count": 0,
      "outputs": [
        {
          "output_type": "stream",
          "text": [
            "Tue Nov 26 11:18:57 2019       \n",
            "+-----------------------------------------------------------------------------+\n",
            "| NVIDIA-SMI 440.33.01    Driver Version: 418.67       CUDA Version: 10.1     |\n",
            "|-------------------------------+----------------------+----------------------+\n",
            "| GPU  Name        Persistence-M| Bus-Id        Disp.A | Volatile Uncorr. ECC |\n",
            "| Fan  Temp  Perf  Pwr:Usage/Cap|         Memory-Usage | GPU-Util  Compute M. |\n",
            "|===============================+======================+======================|\n",
            "|   0  Tesla K80           Off  | 00000000:00:04.0 Off |                    0 |\n",
            "| N/A   34C    P8    27W / 149W |      0MiB / 11441MiB |      0%      Default |\n",
            "+-------------------------------+----------------------+----------------------+\n",
            "                                                                               \n",
            "+-----------------------------------------------------------------------------+\n",
            "| Processes:                                                       GPU Memory |\n",
            "|  GPU       PID   Type   Process name                             Usage      |\n",
            "|=============================================================================|\n",
            "|  No running processes found                                                 |\n",
            "+-----------------------------------------------------------------------------+\n"
          ],
          "name": "stdout"
        }
      ]
    },
    {
      "cell_type": "code",
      "metadata": {
        "colab_type": "code",
        "id": "fCjPoySjzs0o",
        "outputId": "7edc654c-822a-46b5-f9fb-5dc89dc1d4e1",
        "colab": {
          "base_uri": "https://localhost:8080/",
          "height": 85
        }
      },
      "source": [
        "!nvcc --version"
      ],
      "execution_count": 0,
      "outputs": [
        {
          "output_type": "stream",
          "text": [
            "nvcc: NVIDIA (R) Cuda compiler driver\n",
            "Copyright (c) 2005-2018 NVIDIA Corporation\n",
            "Built on Sat_Aug_25_21:08:01_CDT_2018\n",
            "Cuda compilation tools, release 10.0, V10.0.130\n"
          ],
          "name": "stdout"
        }
      ]
    },
    {
      "cell_type": "code",
      "metadata": {
        "colab_type": "code",
        "id": "jhp8pOl0z1ue",
        "outputId": "eaca2533-58ce-4a2f-e521-c75ae0eb92be",
        "colab": {
          "base_uri": "https://localhost:8080/",
          "height": 34
        }
      },
      "source": [
        "!python -V"
      ],
      "execution_count": 0,
      "outputs": [
        {
          "output_type": "stream",
          "text": [
            "Python 3.6.8\n"
          ],
          "name": "stdout"
        }
      ]
    },
    {
      "cell_type": "code",
      "metadata": {
        "colab_type": "code",
        "id": "p-Kvqv7hz1i7",
        "outputId": "b8fecf56-2343-41aa-e080-20aac741dff6",
        "colab": {
          "base_uri": "https://localhost:8080/",
          "height": 615
        }
      },
      "source": [
        "!pip install tensorflow-gpu"
      ],
      "execution_count": 0,
      "outputs": [
        {
          "output_type": "stream",
          "text": [
            "Requirement already satisfied: tensorflow-gpu in /usr/local/lib/python3.6/dist-packages (2.0.0)\n",
            "Requirement already satisfied: keras-applications>=1.0.8 in /usr/local/lib/python3.6/dist-packages (from tensorflow-gpu) (1.0.8)\n",
            "Requirement already satisfied: numpy<2.0,>=1.16.0 in /usr/local/lib/python3.6/dist-packages (from tensorflow-gpu) (1.17.4)\n",
            "Requirement already satisfied: tensorboard<2.1.0,>=2.0.0 in /usr/local/lib/python3.6/dist-packages (from tensorflow-gpu) (2.0.2)\n",
            "Requirement already satisfied: opt-einsum>=2.3.2 in /usr/local/lib/python3.6/dist-packages (from tensorflow-gpu) (3.1.0)\n",
            "Requirement already satisfied: google-pasta>=0.1.6 in /usr/local/lib/python3.6/dist-packages (from tensorflow-gpu) (0.1.8)\n",
            "Requirement already satisfied: wrapt>=1.11.1 in /usr/local/lib/python3.6/dist-packages (from tensorflow-gpu) (1.11.2)\n",
            "Requirement already satisfied: tensorflow-estimator<2.1.0,>=2.0.0 in /usr/local/lib/python3.6/dist-packages (from tensorflow-gpu) (2.0.1)\n",
            "Requirement already satisfied: wheel>=0.26 in /usr/local/lib/python3.6/dist-packages (from tensorflow-gpu) (0.33.6)\n",
            "Requirement already satisfied: gast==0.2.2 in /usr/local/lib/python3.6/dist-packages (from tensorflow-gpu) (0.2.2)\n",
            "Requirement already satisfied: protobuf>=3.6.1 in /usr/local/lib/python3.6/dist-packages (from tensorflow-gpu) (3.10.0)\n",
            "Requirement already satisfied: astor>=0.6.0 in /usr/local/lib/python3.6/dist-packages (from tensorflow-gpu) (0.8.0)\n",
            "Requirement already satisfied: keras-preprocessing>=1.0.5 in /usr/local/lib/python3.6/dist-packages (from tensorflow-gpu) (1.1.0)\n",
            "Requirement already satisfied: six>=1.10.0 in /usr/local/lib/python3.6/dist-packages (from tensorflow-gpu) (1.12.0)\n",
            "Requirement already satisfied: termcolor>=1.1.0 in /usr/local/lib/python3.6/dist-packages (from tensorflow-gpu) (1.1.0)\n",
            "Requirement already satisfied: grpcio>=1.8.6 in /usr/local/lib/python3.6/dist-packages (from tensorflow-gpu) (1.15.0)\n",
            "Requirement already satisfied: absl-py>=0.7.0 in /usr/local/lib/python3.6/dist-packages (from tensorflow-gpu) (0.8.1)\n",
            "Requirement already satisfied: h5py in /usr/local/lib/python3.6/dist-packages (from keras-applications>=1.0.8->tensorflow-gpu) (2.8.0)\n",
            "Requirement already satisfied: requests<3,>=2.21.0 in /usr/local/lib/python3.6/dist-packages (from tensorboard<2.1.0,>=2.0.0->tensorflow-gpu) (2.21.0)\n",
            "Requirement already satisfied: markdown>=2.6.8 in /usr/local/lib/python3.6/dist-packages (from tensorboard<2.1.0,>=2.0.0->tensorflow-gpu) (3.1.1)\n",
            "Requirement already satisfied: google-auth<2,>=1.6.3 in /usr/local/lib/python3.6/dist-packages (from tensorboard<2.1.0,>=2.0.0->tensorflow-gpu) (1.7.1)\n",
            "Requirement already satisfied: setuptools>=41.0.0 in /usr/local/lib/python3.6/dist-packages (from tensorboard<2.1.0,>=2.0.0->tensorflow-gpu) (41.6.0)\n",
            "Requirement already satisfied: werkzeug>=0.11.15 in /usr/local/lib/python3.6/dist-packages (from tensorboard<2.1.0,>=2.0.0->tensorflow-gpu) (0.16.0)\n",
            "Requirement already satisfied: google-auth-oauthlib<0.5,>=0.4.1 in /usr/local/lib/python3.6/dist-packages (from tensorboard<2.1.0,>=2.0.0->tensorflow-gpu) (0.4.1)\n",
            "Requirement already satisfied: idna<2.9,>=2.5 in /usr/local/lib/python3.6/dist-packages (from requests<3,>=2.21.0->tensorboard<2.1.0,>=2.0.0->tensorflow-gpu) (2.8)\n",
            "Requirement already satisfied: chardet<3.1.0,>=3.0.2 in /usr/local/lib/python3.6/dist-packages (from requests<3,>=2.21.0->tensorboard<2.1.0,>=2.0.0->tensorflow-gpu) (3.0.4)\n",
            "Requirement already satisfied: certifi>=2017.4.17 in /usr/local/lib/python3.6/dist-packages (from requests<3,>=2.21.0->tensorboard<2.1.0,>=2.0.0->tensorflow-gpu) (2019.9.11)\n",
            "Requirement already satisfied: urllib3<1.25,>=1.21.1 in /usr/local/lib/python3.6/dist-packages (from requests<3,>=2.21.0->tensorboard<2.1.0,>=2.0.0->tensorflow-gpu) (1.24.3)\n",
            "Requirement already satisfied: rsa<4.1,>=3.1.4 in /usr/local/lib/python3.6/dist-packages (from google-auth<2,>=1.6.3->tensorboard<2.1.0,>=2.0.0->tensorflow-gpu) (4.0)\n",
            "Requirement already satisfied: pyasn1-modules>=0.2.1 in /usr/local/lib/python3.6/dist-packages (from google-auth<2,>=1.6.3->tensorboard<2.1.0,>=2.0.0->tensorflow-gpu) (0.2.7)\n",
            "Requirement already satisfied: cachetools<3.2,>=2.0.0 in /usr/local/lib/python3.6/dist-packages (from google-auth<2,>=1.6.3->tensorboard<2.1.0,>=2.0.0->tensorflow-gpu) (3.1.1)\n",
            "Requirement already satisfied: requests-oauthlib>=0.7.0 in /usr/local/lib/python3.6/dist-packages (from google-auth-oauthlib<0.5,>=0.4.1->tensorboard<2.1.0,>=2.0.0->tensorflow-gpu) (1.3.0)\n",
            "Requirement already satisfied: pyasn1>=0.1.3 in /usr/local/lib/python3.6/dist-packages (from rsa<4.1,>=3.1.4->google-auth<2,>=1.6.3->tensorboard<2.1.0,>=2.0.0->tensorflow-gpu) (0.4.7)\n",
            "Requirement already satisfied: oauthlib>=3.0.0 in /usr/local/lib/python3.6/dist-packages (from requests-oauthlib>=0.7.0->google-auth-oauthlib<0.5,>=0.4.1->tensorboard<2.1.0,>=2.0.0->tensorflow-gpu) (3.1.0)\n"
          ],
          "name": "stdout"
        }
      ]
    },
    {
      "cell_type": "code",
      "metadata": {
        "colab_type": "code",
        "id": "0SJyVpgSxHt4",
        "outputId": "1373f17b-665d-4a10-853b-8fceb0148e7e",
        "colab": {
          "base_uri": "https://localhost:8080/",
          "height": 51
        }
      },
      "source": [
        "import numpy as np\n",
        "import tensorflow as tf\n",
        "\n",
        "from tensorflow.keras.models import Sequential\n",
        "from tensorflow.keras.layers import Dense, Dropout, Activation, Flatten, Add, BatchNormalization\n",
        "from tensorflow.keras.layers import Conv2D, MaxPool2D\n",
        "from tensorflow.keras import utils\n",
        "\n",
        "from tensorflow.keras.datasets import mnist\n",
        "\n",
        "print(tf.version.VERSION)\n",
        "print(tf.keras.__version__)"
      ],
      "execution_count": 0,
      "outputs": [
        {
          "output_type": "stream",
          "text": [
            "2.0.0\n",
            "2.2.4-tf\n"
          ],
          "name": "stdout"
        }
      ]
    },
    {
      "cell_type": "code",
      "metadata": {
        "colab_type": "code",
        "id": "eBp9Gb2e0udy",
        "colab": {}
      },
      "source": [
        "#tf.compat.v1.enable_eager_execution()\n",
        "tf.compat.v1.disable_eager_execution()"
      ],
      "execution_count": 0,
      "outputs": []
    },
    {
      "cell_type": "code",
      "metadata": {
        "colab_type": "code",
        "id": "YlEUplvoxKAT",
        "colab": {}
      },
      "source": [
        "(X_train, y_train), (X_test, y_test) = mnist.load_data()\n"
      ],
      "execution_count": 0,
      "outputs": []
    },
    {
      "cell_type": "code",
      "metadata": {
        "colab_type": "code",
        "id": "I6Y9Va-xxMXG",
        "outputId": "a6ada8ae-92c4-4ad3-cb65-3b3d438666ba",
        "colab": {
          "base_uri": "https://localhost:8080/",
          "height": 299
        }
      },
      "source": [
        "print (X_train.shape)\n",
        "from matplotlib import pyplot as plt\n",
        "%matplotlib inline\n",
        "plt.imshow(X_train[1])"
      ],
      "execution_count": 0,
      "outputs": [
        {
          "output_type": "stream",
          "text": [
            "(60000, 28, 28)\n"
          ],
          "name": "stdout"
        },
        {
          "output_type": "execute_result",
          "data": {
            "text/plain": [
              "<matplotlib.image.AxesImage at 0x7f8ff53155f8>"
            ]
          },
          "metadata": {
            "tags": []
          },
          "execution_count": 8
        },
        {
          "output_type": "display_data",
          "data": {
            "image/png": "[encoded data removed]",
            "text/plain": [
              "<Figure size 432x288 with 1 Axes>"
            ]
          },
          "metadata": {
            "tags": []
          }
        }
      ]
    },
    {
      "cell_type": "code",
      "metadata": {
        "colab_type": "code",
        "id": "lxDZxPhhxOgO",
        "colab": {}
      },
      "source": [
        "X_train = X_train.reshape(X_train.shape[0], 28, 28,1)\n",
        "X_test = X_test.reshape(X_test.shape[0], 28, 28,1)"
      ],
      "execution_count": 0,
      "outputs": []
    },
    {
      "cell_type": "code",
      "metadata": {
        "colab_type": "code",
        "id": "3HzMqbTnxQQW",
        "colab": {}
      },
      "source": [
        "X_train = X_train.astype('float32')\n",
        "X_test = X_test.astype('float32')\n",
        "X_train /= 255\n",
        "X_test /= 255"
      ],
      "execution_count": 0,
      "outputs": []
    },
    {
      "cell_type": "code",
      "metadata": {
        "colab_type": "code",
        "id": "7LdYiW6ixR9e",
        "colab": {}
      },
      "source": [
        "y_train[:10]\n",
        "Y_train = utils.to_categorical(y_train, 10)\n",
        "Y_test = utils.to_categorical(y_test, 10)"
      ],
      "execution_count": 0,
      "outputs": []
    },
    {
      "cell_type": "code",
      "metadata": {
        "colab_type": "code",
        "id": "rFR0F9j0xVp2",
        "outputId": "b409b987-da6a-40f8-f7fe-580706a1ea48",
        "colab": {
          "base_uri": "https://localhost:8080/",
          "height": 187
        }
      },
      "source": [
        "Y_train[:10]"
      ],
      "execution_count": 0,
      "outputs": [
        {
          "output_type": "execute_result",
          "data": {
            "text/plain": [
              "array([[0., 0., 0., 0., 0., 1., 0., 0., 0., 0.],\n",
              "       [1., 0., 0., 0., 0., 0., 0., 0., 0., 0.],\n",
              "       [0., 0., 0., 0., 1., 0., 0., 0., 0., 0.],\n",
              "       [0., 1., 0., 0., 0., 0., 0., 0., 0., 0.],\n",
              "       [0., 0., 0., 0., 0., 0., 0., 0., 0., 1.],\n",
              "       [0., 0., 1., 0., 0., 0., 0., 0., 0., 0.],\n",
              "       [0., 1., 0., 0., 0., 0., 0., 0., 0., 0.],\n",
              "       [0., 0., 0., 1., 0., 0., 0., 0., 0., 0.],\n",
              "       [0., 1., 0., 0., 0., 0., 0., 0., 0., 0.],\n",
              "       [0., 0., 0., 0., 1., 0., 0., 0., 0., 0.]], dtype=float32)"
            ]
          },
          "metadata": {
            "tags": []
          },
          "execution_count": 12
        }
      ]
    },
    {
      "cell_type": "code",
      "metadata": {
        "colab_type": "code",
        "id": "mDpXf4YQxXRm",
        "outputId": "1e9292af-44f0-4363-96c0-8794338d992f",
        "colab": {
          "base_uri": "https://localhost:8080/",
          "height": 1000
        }
      },
      "source": [
        "from tensorflow.keras.layers import Activation\n",
        "model = Sequential()\n",
        " \n",
        "model.add(Conv2D(filters = 16, kernel_size = (3, 3), activation='relu', input_shape=(28,28,1), use_bias = False)) #26\n",
        "model.add(BatchNormalization())\n",
        "model.add(Dropout(0.1))\n",
        "\n",
        "model.add(Conv2D(filters = 32, kernel_size = (3, 3), activation='relu', use_bias = False)) #24\n",
        "model.add(BatchNormalization())\n",
        "model.add(Dropout(0.1))\n",
        "\n",
        "model.add(Conv2D(filters = 10, kernel_size = (1, 1), activation='relu', use_bias = False)) #22\n",
        "\n",
        "model.add(MaxPool2D(pool_size=(2, 2)))#11\n",
        "\n",
        "model.add(Conv2D(filters = 12, kernel_size = (3, 3), activation='relu', use_bias = False))#9\n",
        "model.add(BatchNormalization())\n",
        "model.add(Dropout(0.1))\n",
        "\n",
        "\n",
        "model.add(Conv2D(filters = 14, kernel_size = (3, 3), activation='relu', use_bias = False))#7\n",
        "model.add(BatchNormalization())\n",
        "model.add(Dropout(0.1))\n",
        "\n",
        "\n",
        "model.add(Conv2D(filters = 14, kernel_size = (3, 3), activation='relu', use_bias = False))#7\n",
        "model.add(BatchNormalization())\n",
        "model.add(Dropout(0.1))\n",
        "\n",
        "model.add(Conv2D(filters = 16, kernel_size = (3, 3), activation='relu', use_bias = False))#7\n",
        "model.add(BatchNormalization())\n",
        "model.add(Dropout(0.1))\n",
        "\n",
        "\n",
        "model.add(Conv2D(filters = 16, kernel_size = (3, 3), activation='relu', use_bias = False))#7\n",
        "model.add(BatchNormalization())\n",
        "model.add(Dropout(0.1))\n",
        "\n",
        "model.add(Conv2D(filters = 10, kernel_size = (1, 1), activation='relu', use_bias = False))#3\n",
        "model.add(BatchNormalization())\n",
        "model.add(Dropout(0.1))\n",
        "\n",
        "model.add(Conv2D(filters = 10, kernel_size = (2, 2)))\n",
        "#model.add(BatchNormalization())\n",
        "model.add(Dropout(0.1))\n",
        "\n",
        "\n",
        "model.add(Flatten())\n",
        "model.add(Activation('softmax'))\n",
        "\n",
        "\n",
        "model.summary()"
      ],
      "execution_count": 0,
      "outputs": [
        {
          "output_type": "stream",
          "text": [
            "Model: \"sequential_4\"\n",
            "_________________________________________________________________\n",
            "Layer (type)                 Output Shape              Param #   \n",
            "=================================================================\n",
            "conv2d_39 (Conv2D)           (None, 26, 26, 16)        144       \n",
            "_________________________________________________________________\n",
            "batch_normalization_31 (Batc (None, 26, 26, 16)        64        \n",
            "_________________________________________________________________\n",
            "dropout_35 (Dropout)         (None, 26, 26, 16)        0         \n",
            "_________________________________________________________________\n",
            "conv2d_40 (Conv2D)           (None, 24, 24, 32)        4608      \n",
            "_________________________________________________________________\n",
            "batch_normalization_32 (Batc (None, 24, 24, 32)        128       \n",
            "_________________________________________________________________\n",
            "dropout_36 (Dropout)         (None, 24, 24, 32)        0         \n",
            "_________________________________________________________________\n",
            "conv2d_41 (Conv2D)           (None, 24, 24, 10)        320       \n",
            "_________________________________________________________________\n",
            "max_pooling2d_4 (MaxPooling2 (None, 12, 12, 10)        0         \n",
            "_________________________________________________________________\n",
            "conv2d_42 (Conv2D)           (None, 10, 10, 12)        1080      \n",
            "_________________________________________________________________\n",
            "batch_normalization_33 (Batc (None, 10, 10, 12)        48        \n",
            "_________________________________________________________________\n",
            "dropout_37 (Dropout)         (None, 10, 10, 12)        0         \n",
            "_________________________________________________________________\n",
            "conv2d_43 (Conv2D)           (None, 8, 8, 14)          1512      \n",
            "_________________________________________________________________\n",
            "batch_normalization_34 (Batc (None, 8, 8, 14)          56        \n",
            "_________________________________________________________________\n",
            "dropout_38 (Dropout)         (None, 8, 8, 14)          0         \n",
            "_________________________________________________________________\n",
            "conv2d_44 (Conv2D)           (None, 6, 6, 14)          1764      \n",
            "_________________________________________________________________\n",
            "batch_normalization_35 (Batc (None, 6, 6, 14)          56        \n",
            "_________________________________________________________________\n",
            "dropout_39 (Dropout)         (None, 6, 6, 14)          0         \n",
            "_________________________________________________________________\n",
            "conv2d_45 (Conv2D)           (None, 4, 4, 16)          2016      \n",
            "_________________________________________________________________\n",
            "batch_normalization_36 (Batc (None, 4, 4, 16)          64        \n",
            "_________________________________________________________________\n",
            "dropout_40 (Dropout)         (None, 4, 4, 16)          0         \n",
            "_________________________________________________________________\n",
            "conv2d_46 (Conv2D)           (None, 2, 2, 16)          2304      \n",
            "_________________________________________________________________\n",
            "batch_normalization_37 (Batc (None, 2, 2, 16)          64        \n",
            "_________________________________________________________________\n",
            "dropout_41 (Dropout)         (None, 2, 2, 16)          0         \n",
            "_________________________________________________________________\n",
            "conv2d_47 (Conv2D)           (None, 2, 2, 10)          160       \n",
            "_________________________________________________________________\n",
            "batch_normalization_38 (Batc (None, 2, 2, 10)          40        \n",
            "_________________________________________________________________\n",
            "dropout_42 (Dropout)         (None, 2, 2, 10)          0         \n",
            "_________________________________________________________________\n",
            "conv2d_48 (Conv2D)           (None, 1, 1, 10)          410       \n",
            "_________________________________________________________________\n",
            "dropout_43 (Dropout)         (None, 1, 1, 10)          0         \n",
            "_________________________________________________________________\n",
            "flatten_4 (Flatten)          (None, 10)                0         \n",
            "_________________________________________________________________\n",
            "activation_4 (Activation)    (None, 10)                0         \n",
            "=================================================================\n",
            "Total params: 14,838\n",
            "Trainable params: 14,578\n",
            "Non-trainable params: 260\n",
            "_________________________________________________________________\n"
          ],
          "name": "stdout"
        }
      ]
    },
    {
      "cell_type": "code",
      "metadata": {
        "colab_type": "code",
        "id": "L2IicGJ4x3Be",
        "outputId": "dc0ef717-6e11-4ccd-968a-c3a1c2cea85f",
        "colab": {
          "base_uri": "https://localhost:8080/",
          "height": 1000
        }
      },
      "source": [
        "from tensorflow.keras.optimizers import Adam\n",
        "from tensorflow.keras.optimizers import SGD\n",
        "from tensorflow.keras.callbacks import LearningRateScheduler\n",
        "def scheduler(epoch, lr):\n",
        "  return round(0.3 * 1/(1 + 0.319 * epoch), 10)\n",
        "\n",
        "model.compile(loss='categorical_crossentropy', optimizer=SGD(lr=0.3), metrics=['accuracy'])\n",
        "\n",
        "model.fit(X_train, Y_train, batch_size=128, epochs=20, verbose=1, validation_data=(X_test, Y_test), callbacks=[LearningRateScheduler(scheduler, verbose=1)])"
      ],
      "execution_count": 0,
      "outputs": [
        {
          "output_type": "stream",
          "text": [
            "Train on 60000 samples, validate on 10000 samples\n",
            "\n",
            "Epoch 00001: LearningRateScheduler reducing learning rate to 0.3.\n",
            "Epoch 1/20\n",
            "60000/60000 [==============================] - 22s 362us/sample - loss: 0.4035 - accuracy: 0.8648 - val_loss: 0.1279 - val_accuracy: 0.9627\n",
            "\n",
            "Epoch 00002: LearningRateScheduler reducing learning rate to 0.2274450341.\n",
            "Epoch 2/20\n",
            "60000/60000 [==============================] - 18s 303us/sample - loss: 0.1754 - accuracy: 0.9352 - val_loss: 0.0398 - val_accuracy: 0.9882\n",
            "\n",
            "Epoch 00003: LearningRateScheduler reducing learning rate to 0.1831501832.\n",
            "Epoch 3/20\n",
            "60000/60000 [==============================] - 18s 302us/sample - loss: 0.1469 - accuracy: 0.9419 - val_loss: 0.0336 - val_accuracy: 0.9904\n",
            "\n",
            "Epoch 00004: LearningRateScheduler reducing learning rate to 0.153295861.\n",
            "Epoch 4/20\n",
            "60000/60000 [==============================] - 18s 302us/sample - loss: 0.1332 - accuracy: 0.9455 - val_loss: 0.0313 - val_accuracy: 0.9917\n",
            "\n",
            "Epoch 00005: LearningRateScheduler reducing learning rate to 0.1318101933.\n",
            "Epoch 5/20\n",
            "60000/60000 [==============================] - 18s 301us/sample - loss: 0.1262 - accuracy: 0.9475 - val_loss: 0.0306 - val_accuracy: 0.9915\n",
            "\n",
            "Epoch 00006: LearningRateScheduler reducing learning rate to 0.1156069364.\n",
            "Epoch 6/20\n",
            "60000/60000 [==============================] - 18s 302us/sample - loss: 0.1195 - accuracy: 0.9497 - val_loss: 0.0278 - val_accuracy: 0.9924\n",
            "\n",
            "Epoch 00007: LearningRateScheduler reducing learning rate to 0.1029512697.\n",
            "Epoch 7/20\n",
            "60000/60000 [==============================] - 18s 304us/sample - loss: 0.1118 - accuracy: 0.9525 - val_loss: 0.0284 - val_accuracy: 0.9920\n",
            "\n",
            "Epoch 00008: LearningRateScheduler reducing learning rate to 0.0927930715.\n",
            "Epoch 8/20\n",
            "60000/60000 [==============================] - 18s 302us/sample - loss: 0.1148 - accuracy: 0.9504 - val_loss: 0.0237 - val_accuracy: 0.9936\n",
            "\n",
            "Epoch 00009: LearningRateScheduler reducing learning rate to 0.0844594595.\n",
            "Epoch 9/20\n",
            "60000/60000 [==============================] - 18s 301us/sample - loss: 0.1077 - accuracy: 0.9527 - val_loss: 0.0235 - val_accuracy: 0.9932\n",
            "\n",
            "Epoch 00010: LearningRateScheduler reducing learning rate to 0.0774993542.\n",
            "Epoch 10/20\n",
            "60000/60000 [==============================] - 18s 303us/sample - loss: 0.1111 - accuracy: 0.9512 - val_loss: 0.0240 - val_accuracy: 0.9931\n",
            "\n",
            "Epoch 00011: LearningRateScheduler reducing learning rate to 0.0715990453.\n",
            "Epoch 11/20\n",
            "60000/60000 [==============================] - 18s 302us/sample - loss: 0.1024 - accuracy: 0.9539 - val_loss: 0.0234 - val_accuracy: 0.9932\n",
            "\n",
            "Epoch 00012: LearningRateScheduler reducing learning rate to 0.0665335995.\n",
            "Epoch 12/20\n",
            "60000/60000 [==============================] - 18s 303us/sample - loss: 0.1069 - accuracy: 0.9528 - val_loss: 0.0247 - val_accuracy: 0.9927\n",
            "\n",
            "Epoch 00013: LearningRateScheduler reducing learning rate to 0.0621375311.\n",
            "Epoch 13/20\n",
            "60000/60000 [==============================] - 18s 302us/sample - loss: 0.1034 - accuracy: 0.9544 - val_loss: 0.0230 - val_accuracy: 0.9939\n",
            "\n",
            "Epoch 00014: LearningRateScheduler reducing learning rate to 0.0582863804.\n",
            "Epoch 14/20\n",
            "60000/60000 [==============================] - 18s 306us/sample - loss: 0.1016 - accuracy: 0.9536 - val_loss: 0.0235 - val_accuracy: 0.9936\n",
            "\n",
            "Epoch 00015: LearningRateScheduler reducing learning rate to 0.054884742.\n",
            "Epoch 15/20\n",
            "60000/60000 [==============================] - 18s 301us/sample - loss: 0.0995 - accuracy: 0.9540 - val_loss: 0.0215 - val_accuracy: 0.9940\n",
            "\n",
            "Epoch 00016: LearningRateScheduler reducing learning rate to 0.0518582541.\n",
            "Epoch 16/20\n",
            "60000/60000 [==============================] - 18s 303us/sample - loss: 0.0998 - accuracy: 0.9543 - val_loss: 0.0217 - val_accuracy: 0.9942\n",
            "\n",
            "Epoch 00017: LearningRateScheduler reducing learning rate to 0.0491480996.\n",
            "Epoch 17/20\n",
            "60000/60000 [==============================] - 18s 302us/sample - loss: 0.1003 - accuracy: 0.9524 - val_loss: 0.0209 - val_accuracy: 0.9942\n",
            "\n",
            "Epoch 00018: LearningRateScheduler reducing learning rate to 0.0467071462.\n",
            "Epoch 18/20\n",
            "60000/60000 [==============================] - 18s 302us/sample - loss: 0.0989 - accuracy: 0.9546 - val_loss: 0.0218 - val_accuracy: 0.9944\n",
            "\n",
            "Epoch 00019: LearningRateScheduler reducing learning rate to 0.0444971818.\n",
            "Epoch 19/20\n",
            "60000/60000 [==============================] - 18s 302us/sample - loss: 0.0945 - accuracy: 0.9563 - val_loss: 0.0218 - val_accuracy: 0.9938\n",
            "\n",
            "Epoch 00020: LearningRateScheduler reducing learning rate to 0.0424868999.\n",
            "Epoch 20/20\n",
            "60000/60000 [==============================] - 18s 299us/sample - loss: 0.0978 - accuracy: 0.9552 - val_loss: 0.0208 - val_accuracy: 0.9943\n"
          ],
          "name": "stdout"
        },
        {
          "output_type": "execute_result",
          "data": {
            "text/plain": [
              "<tensorflow.python.keras.callbacks.History at 0x7f8ff4e34940>"
            ]
          },
          "metadata": {
            "tags": []
          },
          "execution_count": 18
        }
      ]
    },
    {
      "cell_type": "code",
      "metadata": {
        "colab_type": "code",
        "id": "WLxlW9ufyQiO",
        "outputId": "43e944c0-81e4-40c6-8d94-27a8cc791b8d",
        "colab": {
          "base_uri": "https://localhost:8080/",
          "height": 34
        }
      },
      "source": [
        "\n",
        "score = model.evaluate(X_test, Y_test, verbose=0)\n",
        "print(score)"
      ],
      "execution_count": 0,
      "outputs": [
        {
          "output_type": "stream",
          "text": [
            "[0.020760589016037556, 0.9943]\n"
          ],
          "name": "stdout"
        }
      ]
    },
    {
      "cell_type": "code",
      "metadata": {
        "colab_type": "code",
        "id": "m2qDl21ozBnW",
        "colab": {}
      },
      "source": [
        ""
      ],
      "execution_count": 0,
      "outputs": []
    }
  ]
}