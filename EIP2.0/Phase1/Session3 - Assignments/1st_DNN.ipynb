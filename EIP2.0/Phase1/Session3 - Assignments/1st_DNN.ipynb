{
  "nbformat": 4,
  "nbformat_minor": 0,
  "metadata": {
    "colab": {
      "name": "1st DNN.ipynb",
      "version": "0.3.2",
      "provenance": [],
      "collapsed_sections": []
    },
    "kernelspec": {
      "name": "python3",
      "display_name": "Python 3"
    },
    "accelerator": "GPU"
  },
  "cells": [
    {
      "metadata": {
        "id": "aNyZv-Ec52ot",
        "colab_type": "text"
      },
      "cell_type": "markdown",
      "source": [
        "# **Import Libraries and modules**"
      ]
    },
    {
      "metadata": {
        "id": "3m3w1Cw49Zkt",
        "colab_type": "code",
        "outputId": "0b5b123d-089b-445c-fbfe-5748111b424b",
        "colab": {
          "base_uri": "https://localhost:8080/",
          "height": 34
        }
      },
      "cell_type": "code",
      "source": [
        "# https://keras.io/\n",
        "!pip install -q keras\n",
        "import keras"
      ],
      "execution_count": 0,
      "outputs": [
        {
          "output_type": "stream",
          "text": [
            "Using TensorFlow backend.\n"
          ],
          "name": "stderr"
        }
      ]
    },
    {
      "metadata": {
        "id": "Eso6UHE080D4",
        "colab_type": "code",
        "colab": {}
      },
      "cell_type": "code",
      "source": [
        "import numpy as np\n",
        "\n",
        "from keras.models import Sequential\n",
        "from keras.layers import Dense, Dropout, Activation, Flatten, Add\n",
        "from keras.layers import Convolution2D, MaxPooling2D\n",
        "from keras.utils import np_utils\n",
        "\n",
        "from keras.datasets import mnist\n",
        "from keras.preprocessing.image import ImageDataGenerator\n",
        "from keras.layers.normalization import BatchNormalization"
      ],
      "execution_count": 0,
      "outputs": []
    },
    {
      "metadata": {
        "id": "OG4sioIUTmVD",
        "colab_type": "code",
        "colab": {}
      },
      "cell_type": "code",
      "source": [
        "from numpy.random import seed\n",
        "seed(10)\n",
        "from tensorflow import set_random_seed\n",
        "set_random_seed(20)"
      ],
      "execution_count": 0,
      "outputs": []
    },
    {
      "metadata": {
        "id": "zByEi95J86RD",
        "colab_type": "text"
      },
      "cell_type": "markdown",
      "source": [
        "### Load pre-shuffled MNIST data into train and test sets"
      ]
    },
    {
      "metadata": {
        "id": "7eRM0QWN83PV",
        "colab_type": "code",
        "outputId": "2030376b-2bb2-4da4-c5d9-887f3fbbc5b5",
        "colab": {
          "base_uri": "https://localhost:8080/",
          "height": 51
        }
      },
      "cell_type": "code",
      "source": [
        "(X_train, y_train), (X_test, y_test) = mnist.load_data()"
      ],
      "execution_count": 0,
      "outputs": [
        {
          "output_type": "stream",
          "text": [
            "Downloading data from https://s3.amazonaws.com/img-datasets/mnist.npz\n",
            "11493376/11490434 [==============================] - 0s 0us/step\n"
          ],
          "name": "stdout"
        }
      ]
    },
    {
      "metadata": {
        "id": "4a4Be72j8-ZC",
        "colab_type": "code",
        "outputId": "92f1e59e-9f81-416f-f75e-b34863762cc1",
        "colab": {
          "base_uri": "https://localhost:8080/",
          "height": 299
        }
      },
      "cell_type": "code",
      "source": [
        "print (X_train.shape)\n",
        "from matplotlib import pyplot as plt\n",
        "%matplotlib inline\n",
        "plt.imshow(X_train[0])"
      ],
      "execution_count": 0,
      "outputs": [
        {
          "output_type": "stream",
          "text": [
            "(60000, 28, 28)\n"
          ],
          "name": "stdout"
        },
        {
          "output_type": "execute_result",
          "data": {
            "text/plain": [
              "<matplotlib.image.AxesImage at 0x7fc4a37dd208>"
            ]
          },
          "metadata": {
            "tags": []
          },
          "execution_count": 5
        },
        {
          "output_type": "display_data",
          "data": {
            "image/png": "[encoded data removed]",
            "text/plain": [
              "<matplotlib.figure.Figure at 0x7fc5062b9ba8>"
            ]
          },
          "metadata": {
            "tags": []
          }
        }
      ]
    },
    {
      "metadata": {
        "id": "dkmprriw9AnZ",
        "colab_type": "code",
        "colab": {}
      },
      "cell_type": "code",
      "source": [
        "X_train = X_train.reshape(X_train.shape[0], 28, 28,1)\n",
        "X_test = X_test.reshape(X_test.shape[0], 28, 28,1)"
      ],
      "execution_count": 0,
      "outputs": []
    },
    {
      "metadata": {
        "id": "X2m4YS4E9CRh",
        "colab_type": "code",
        "colab": {}
      },
      "cell_type": "code",
      "source": [
        "X_train = X_train.astype('float32')\n",
        "X_test = X_test.astype('float32')\n",
        "X_train /= 255\n",
        "X_test /= 255"
      ],
      "execution_count": 0,
      "outputs": []
    },
    {
      "metadata": {
        "id": "0Mn0vAYD9DvB",
        "colab_type": "code",
        "outputId": "afcd8cc3-ff0c-4a9f-e43b-78c445a74ead",
        "colab": {
          "base_uri": "https://localhost:8080/",
          "height": 34
        }
      },
      "cell_type": "code",
      "source": [
        "y_train[:10]"
      ],
      "execution_count": 0,
      "outputs": [
        {
          "output_type": "execute_result",
          "data": {
            "text/plain": [
              "array([5, 0, 4, 1, 9, 2, 1, 3, 1, 4], dtype=uint8)"
            ]
          },
          "metadata": {
            "tags": []
          },
          "execution_count": 8
        }
      ]
    },
    {
      "metadata": {
        "id": "ZG8JiXR39FHC",
        "colab_type": "code",
        "colab": {}
      },
      "cell_type": "code",
      "source": [
        "# Convert 1-dimensional class arrays to 10-dimensional class matrices\n",
        "Y_train = np_utils.to_categorical(y_train, 10)\n",
        "Y_test = np_utils.to_categorical(y_test, 10)"
      ],
      "execution_count": 0,
      "outputs": []
    },
    {
      "metadata": {
        "id": "fYlFRvKS9HMB",
        "colab_type": "code",
        "outputId": "2f921fdf-5baa-4bec-c99c-bd70f8d1362e",
        "colab": {
          "base_uri": "https://localhost:8080/",
          "height": 187
        }
      },
      "cell_type": "code",
      "source": [
        "Y_train[:10]"
      ],
      "execution_count": 0,
      "outputs": [
        {
          "output_type": "execute_result",
          "data": {
            "text/plain": [
              "array([[0., 0., 0., 0., 0., 1., 0., 0., 0., 0.],\n",
              "       [1., 0., 0., 0., 0., 0., 0., 0., 0., 0.],\n",
              "       [0., 0., 0., 0., 1., 0., 0., 0., 0., 0.],\n",
              "       [0., 1., 0., 0., 0., 0., 0., 0., 0., 0.],\n",
              "       [0., 0., 0., 0., 0., 0., 0., 0., 0., 1.],\n",
              "       [0., 0., 1., 0., 0., 0., 0., 0., 0., 0.],\n",
              "       [0., 1., 0., 0., 0., 0., 0., 0., 0., 0.],\n",
              "       [0., 0., 0., 1., 0., 0., 0., 0., 0., 0.],\n",
              "       [0., 1., 0., 0., 0., 0., 0., 0., 0., 0.],\n",
              "       [0., 0., 0., 0., 1., 0., 0., 0., 0., 0.]], dtype=float32)"
            ]
          },
          "metadata": {
            "tags": []
          },
          "execution_count": 10
        }
      ]
    },
    {
      "metadata": {
        "id": "OAqrCAu0giK_",
        "colab_type": "code",
        "colab": {}
      },
      "cell_type": "code",
      "source": [
        "'''datagen = ImageDataGenerator(\n",
        "    featurewise_center=True,\n",
        "    featurewise_std_normalization=True,\n",
        "    zca_whitening=True,\n",
        "    rotation_range=20,\n",
        "    width_shift_range=0.2,\n",
        "    height_shift_range=0.2,\n",
        "    horizontal_flip=True,\n",
        "    vertical_flip=True)'''\n",
        "\n",
        "'''datagen = ImageDataGenerator(\n",
        "    featurewise_center=True,\n",
        "    featurewise_std_normalization=True,\n",
        "    rotation_range=8,\n",
        "    width_shift_range=0.08,\n",
        "    height_shift_range=0.08,\n",
        "    shear_range=0.3,\n",
        "    zoom_range=0.08)'''\n",
        "\n",
        "datagen = ImageDataGenerator(\n",
        "    featurewise_center=False,\n",
        "    featurewise_std_normalization=False,\n",
        "    width_shift_range=0.08,\n",
        "    height_shift_range=0.08,\n",
        "    rotation_range=8,\n",
        "    shear_range=0.3,\n",
        "    zoom_range=0.08)"
      ],
      "execution_count": 0,
      "outputs": []
    },
    {
      "metadata": {
        "id": "8k1qIp5ChHW6",
        "colab_type": "code",
        "colab": {}
      },
      "cell_type": "code",
      "source": [
        "datagen.fit(X_train)"
      ],
      "execution_count": 0,
      "outputs": []
    },
    {
      "metadata": {
        "id": "osKqT73Q9JJB",
        "colab_type": "code",
        "outputId": "e81db024-2950-4185-a94d-159f403b73ca",
        "colab": {
          "base_uri": "https://localhost:8080/",
          "height": 292
        }
      },
      "cell_type": "code",
      "source": [
        "from keras.layers import Activation\n",
        "model = Sequential()\n",
        "\n",
        " \n",
        "model.add(Convolution2D(4, 3, 3, activation='relu', input_shape=(28,28,1)))\n",
        "\n",
        "model.add(Convolution2D(5, 3, 3, activation='relu', input_shape=(26,26,4)))\n",
        "model.add(BatchNormalization(axis=-1))\n",
        "\n",
        "model.add(Convolution2D(8, 3, 3, activation='relu', input_shape=(24,24,5)))\n",
        "\n",
        "model.add(Convolution2D(10, 3, 3, activation='relu', input_shape=(22,22,8)))\n",
        "model.add(BatchNormalization(axis=-1))\n",
        "\n",
        "model.add(Convolution2D(12, 3, 3, activation='relu', input_shape=(20,20,10)))\n",
        "\n",
        "model.add(Convolution2D(14, 3, 3, activation='relu', input_shape=(18,18,12)))\n",
        "model.add(BatchNormalization(axis=-1))\n",
        "\n",
        "model.add(Convolution2D(16, 3, 3, activation='relu', input_shape=(16,16,14)))\n",
        "\n",
        "model.add(Convolution2D(18, 3, 3, activation='relu', input_shape=(14,14,16)))\n",
        "model.add(BatchNormalization(axis=-1))\n",
        "\n",
        "model.add(Convolution2D(15, 3, 3, activation='relu', input_shape=(12,12,18)))\n",
        "\n",
        "model.add(Convolution2D(14, 3, 3, activation='relu', input_shape=(10,10,15)))\n",
        "model.add(BatchNormalization(axis=-1))\n",
        "\n",
        "\n",
        "model.add(Convolution2D(10, 1, activation='relu', input_shape=(8,8,14)))\n",
        "model.add(Convolution2D(10, 8))\n",
        "model.add(Flatten())\n",
        "model.add(Activation('softmax'))"
      ],
      "execution_count": 0,
      "outputs": [
        {
          "output_type": "stream",
          "text": [
            "/usr/local/lib/python3.6/dist-packages/ipykernel_launcher.py:5: UserWarning: Update your `Conv2D` call to the Keras 2 API: `Conv2D(4, (3, 3), activation=\"relu\", input_shape=(28, 28, 1...)`\n",
            "  \"\"\"\n",
            "/usr/local/lib/python3.6/dist-packages/ipykernel_launcher.py:7: UserWarning: Update your `Conv2D` call to the Keras 2 API: `Conv2D(5, (3, 3), activation=\"relu\", input_shape=(26, 26, 4...)`\n",
            "  import sys\n",
            "/usr/local/lib/python3.6/dist-packages/ipykernel_launcher.py:10: UserWarning: Update your `Conv2D` call to the Keras 2 API: `Conv2D(8, (3, 3), activation=\"relu\", input_shape=(24, 24, 5...)`\n",
            "  # Remove the CWD from sys.path while we load stuff.\n",
            "/usr/local/lib/python3.6/dist-packages/ipykernel_launcher.py:12: UserWarning: Update your `Conv2D` call to the Keras 2 API: `Conv2D(10, (3, 3), activation=\"relu\", input_shape=(22, 22, 8...)`\n",
            "  if sys.path[0] == '':\n",
            "/usr/local/lib/python3.6/dist-packages/ipykernel_launcher.py:15: UserWarning: Update your `Conv2D` call to the Keras 2 API: `Conv2D(12, (3, 3), activation=\"relu\", input_shape=(20, 20, 1...)`\n",
            "  from ipykernel import kernelapp as app\n",
            "/usr/local/lib/python3.6/dist-packages/ipykernel_launcher.py:17: UserWarning: Update your `Conv2D` call to the Keras 2 API: `Conv2D(14, (3, 3), activation=\"relu\", input_shape=(18, 18, 1...)`\n",
            "/usr/local/lib/python3.6/dist-packages/ipykernel_launcher.py:20: UserWarning: Update your `Conv2D` call to the Keras 2 API: `Conv2D(16, (3, 3), activation=\"relu\", input_shape=(16, 16, 1...)`\n",
            "/usr/local/lib/python3.6/dist-packages/ipykernel_launcher.py:22: UserWarning: Update your `Conv2D` call to the Keras 2 API: `Conv2D(18, (3, 3), activation=\"relu\", input_shape=(14, 14, 1...)`\n",
            "/usr/local/lib/python3.6/dist-packages/ipykernel_launcher.py:25: UserWarning: Update your `Conv2D` call to the Keras 2 API: `Conv2D(15, (3, 3), activation=\"relu\", input_shape=(12, 12, 1...)`\n",
            "/usr/local/lib/python3.6/dist-packages/ipykernel_launcher.py:27: UserWarning: Update your `Conv2D` call to the Keras 2 API: `Conv2D(14, (3, 3), activation=\"relu\", input_shape=(10, 10, 1...)`\n"
          ],
          "name": "stderr"
        }
      ]
    },
    {
      "metadata": {
        "id": "TzdAYg1k9K7Z",
        "colab_type": "code",
        "outputId": "1534108c-2e13-48e9-e0aa-4b3cf5ac5732",
        "colab": {
          "base_uri": "https://localhost:8080/",
          "height": 782
        }
      },
      "cell_type": "code",
      "source": [
        "model.summary()"
      ],
      "execution_count": 0,
      "outputs": [
        {
          "output_type": "stream",
          "text": [
            "_________________________________________________________________\n",
            "Layer (type)                 Output Shape              Param #   \n",
            "=================================================================\n",
            "conv2d_1 (Conv2D)            (None, 26, 26, 4)         40        \n",
            "_________________________________________________________________\n",
            "conv2d_2 (Conv2D)            (None, 24, 24, 5)         185       \n",
            "_________________________________________________________________\n",
            "batch_normalization_1 (Batch (None, 24, 24, 5)         20        \n",
            "_________________________________________________________________\n",
            "conv2d_3 (Conv2D)            (None, 22, 22, 8)         368       \n",
            "_________________________________________________________________\n",
            "conv2d_4 (Conv2D)            (None, 20, 20, 10)        730       \n",
            "_________________________________________________________________\n",
            "batch_normalization_2 (Batch (None, 20, 20, 10)        40        \n",
            "_________________________________________________________________\n",
            "conv2d_5 (Conv2D)            (None, 18, 18, 12)        1092      \n",
            "_________________________________________________________________\n",
            "conv2d_6 (Conv2D)            (None, 16, 16, 14)        1526      \n",
            "_________________________________________________________________\n",
            "batch_normalization_3 (Batch (None, 16, 16, 14)        56        \n",
            "_________________________________________________________________\n",
            "conv2d_7 (Conv2D)            (None, 14, 14, 16)        2032      \n",
            "_________________________________________________________________\n",
            "conv2d_8 (Conv2D)            (None, 12, 12, 18)        2610      \n",
            "_________________________________________________________________\n",
            "batch_normalization_4 (Batch (None, 12, 12, 18)        72        \n",
            "_________________________________________________________________\n",
            "conv2d_9 (Conv2D)            (None, 10, 10, 15)        2445      \n",
            "_________________________________________________________________\n",
            "conv2d_10 (Conv2D)           (None, 8, 8, 14)          1904      \n",
            "_________________________________________________________________\n",
            "batch_normalization_5 (Batch (None, 8, 8, 14)          56        \n",
            "_________________________________________________________________\n",
            "conv2d_11 (Conv2D)           (None, 8, 8, 10)          150       \n",
            "_________________________________________________________________\n",
            "conv2d_12 (Conv2D)           (None, 1, 1, 10)          6410      \n",
            "_________________________________________________________________\n",
            "flatten_1 (Flatten)          (None, 10)                0         \n",
            "_________________________________________________________________\n",
            "activation_1 (Activation)    (None, 10)                0         \n",
            "=================================================================\n",
            "Total params: 19,736\n",
            "Trainable params: 19,614\n",
            "Non-trainable params: 122\n",
            "_________________________________________________________________\n"
          ],
          "name": "stdout"
        }
      ]
    },
    {
      "metadata": {
        "id": "Zp6SuGrL9M3h",
        "colab_type": "code",
        "colab": {}
      },
      "cell_type": "code",
      "source": [
        "model.compile(loss='categorical_crossentropy',\n",
        "             optimizer='adam',\n",
        "             metrics=['accuracy'])"
      ],
      "execution_count": 0,
      "outputs": []
    },
    {
      "metadata": {
        "id": "4xWoKhPY9Of5",
        "colab_type": "code",
        "outputId": "66ca9618-b68f-40d4-95a4-3fe25471280e",
        "colab": {
          "base_uri": "https://localhost:8080/",
          "height": 1394
        }
      },
      "cell_type": "code",
      "source": [
        "#model.fit(X_train, Y_train, batch_size=32, nb_epoch=30, verbose=1)\n",
        "model.fit_generator(datagen.flow(X_train, Y_train, batch_size=32), epochs=40, verbose=1)"
      ],
      "execution_count": 0,
      "outputs": [
        {
          "output_type": "stream",
          "text": [
            "Epoch 1/40\n",
            "1875/1875 [==============================] - 62s 33ms/step - loss: 0.3942 - acc: 0.8737\n",
            "Epoch 2/40\n",
            "1875/1875 [==============================] - 59s 32ms/step - loss: 0.1538 - acc: 0.9524\n",
            "Epoch 3/40\n",
            "1875/1875 [==============================] - 59s 32ms/step - loss: 0.1220 - acc: 0.9626\n",
            "Epoch 4/40\n",
            "1875/1875 [==============================] - 60s 32ms/step - loss: 0.1085 - acc: 0.9670\n",
            "Epoch 5/40\n",
            "1875/1875 [==============================] - 61s 32ms/step - loss: 0.0978 - acc: 0.9709\n",
            "Epoch 6/40\n",
            "1875/1875 [==============================] - 58s 31ms/step - loss: 0.0896 - acc: 0.9731\n",
            "Epoch 7/40\n",
            "1875/1875 [==============================] - 60s 32ms/step - loss: 0.0825 - acc: 0.9745\n",
            "Epoch 8/40\n",
            "1875/1875 [==============================] - 59s 32ms/step - loss: 0.0799 - acc: 0.9754\n",
            "Epoch 9/40\n",
            "1875/1875 [==============================] - 59s 31ms/step - loss: 0.0734 - acc: 0.9779\n",
            "Epoch 10/40\n",
            "1875/1875 [==============================] - 59s 31ms/step - loss: 0.0704 - acc: 0.9787\n",
            "Epoch 11/40\n",
            "1875/1875 [==============================] - 59s 32ms/step - loss: 0.0668 - acc: 0.9799\n",
            "Epoch 12/40\n",
            "1875/1875 [==============================] - 58s 31ms/step - loss: 0.0644 - acc: 0.9809\n",
            "Epoch 13/40\n",
            "1875/1875 [==============================] - 57s 31ms/step - loss: 0.0631 - acc: 0.9814\n",
            "Epoch 14/40\n",
            "1875/1875 [==============================] - 58s 31ms/step - loss: 0.0612 - acc: 0.9817\n",
            "Epoch 15/40\n",
            "1875/1875 [==============================] - 58s 31ms/step - loss: 0.0611 - acc: 0.9816\n",
            "Epoch 16/40\n",
            "1875/1875 [==============================] - 59s 32ms/step - loss: 0.0580 - acc: 0.9825\n",
            "Epoch 17/40\n",
            "1875/1875 [==============================] - 58s 31ms/step - loss: 0.0528 - acc: 0.9842\n",
            "Epoch 18/40\n",
            "1875/1875 [==============================] - 58s 31ms/step - loss: 0.0550 - acc: 0.9829\n",
            "Epoch 19/40\n",
            "1875/1875 [==============================] - 59s 31ms/step - loss: 0.0518 - acc: 0.9841\n",
            "Epoch 20/40\n",
            "1875/1875 [==============================] - 59s 31ms/step - loss: 0.0515 - acc: 0.9845\n",
            "Epoch 21/40\n",
            "1875/1875 [==============================] - 59s 31ms/step - loss: 0.0493 - acc: 0.9848\n",
            "Epoch 22/40\n",
            "1875/1875 [==============================] - 60s 32ms/step - loss: 0.0468 - acc: 0.9856\n",
            "Epoch 23/40\n",
            "1875/1875 [==============================] - 60s 32ms/step - loss: 0.0496 - acc: 0.9848\n",
            "Epoch 24/40\n",
            "1875/1875 [==============================] - 61s 33ms/step - loss: 0.0472 - acc: 0.9855\n",
            "Epoch 25/40\n",
            "1875/1875 [==============================] - 62s 33ms/step - loss: 0.0466 - acc: 0.9859\n",
            "Epoch 26/40\n",
            "1875/1875 [==============================] - 64s 34ms/step - loss: 0.0457 - acc: 0.9866\n",
            "Epoch 27/40\n",
            "1875/1875 [==============================] - 65s 35ms/step - loss: 0.0439 - acc: 0.9863\n",
            "Epoch 28/40\n",
            "1875/1875 [==============================] - 63s 34ms/step - loss: 0.0430 - acc: 0.9868\n",
            "Epoch 29/40\n",
            "1875/1875 [==============================] - 64s 34ms/step - loss: 0.0419 - acc: 0.9879\n",
            "Epoch 30/40\n",
            "1875/1875 [==============================] - 64s 34ms/step - loss: 0.0423 - acc: 0.9871\n",
            "Epoch 31/40\n",
            "1875/1875 [==============================] - 64s 34ms/step - loss: 0.0425 - acc: 0.9876\n",
            "Epoch 32/40\n",
            "1875/1875 [==============================] - 64s 34ms/step - loss: 0.0429 - acc: 0.9869\n",
            "Epoch 33/40\n",
            "1875/1875 [==============================] - 65s 35ms/step - loss: 0.0405 - acc: 0.9875\n",
            "Epoch 34/40\n",
            "1875/1875 [==============================] - 64s 34ms/step - loss: 0.0376 - acc: 0.9884\n",
            "Epoch 35/40\n",
            "1875/1875 [==============================] - 63s 34ms/step - loss: 0.0406 - acc: 0.9875\n",
            "Epoch 36/40\n",
            "1875/1875 [==============================] - 63s 33ms/step - loss: 0.0387 - acc: 0.9884\n",
            "Epoch 37/40\n",
            "1875/1875 [==============================] - 62s 33ms/step - loss: 0.0386 - acc: 0.9882\n",
            "Epoch 38/40\n",
            "1875/1875 [==============================] - 62s 33ms/step - loss: 0.0390 - acc: 0.9884\n",
            "Epoch 39/40\n",
            "1875/1875 [==============================] - 62s 33ms/step - loss: 0.0394 - acc: 0.9879\n",
            "Epoch 40/40\n",
            "1875/1875 [==============================] - 62s 33ms/step - loss: 0.0378 - acc: 0.9885\n"
          ],
          "name": "stdout"
        },
        {
          "output_type": "execute_result",
          "data": {
            "text/plain": [
              "<keras.callbacks.History at 0x7fc4a37ddc18>"
            ]
          },
          "metadata": {
            "tags": []
          },
          "execution_count": 16
        }
      ]
    },
    {
      "metadata": {
        "id": "AtsH-lLk-eLb",
        "colab_type": "code",
        "outputId": "d0ebdb2b-349f-455d-e4c5-714e80a0544f",
        "colab": {
          "base_uri": "https://localhost:8080/",
          "height": 34
        }
      },
      "cell_type": "code",
      "source": [
        "score = model.evaluate(X_test, Y_test, verbose=1)"
      ],
      "execution_count": 0,
      "outputs": [
        {
          "output_type": "stream",
          "text": [
            "10000/10000 [==============================] - 2s 172us/step\n"
          ],
          "name": "stdout"
        }
      ]
    },
    {
      "metadata": {
        "id": "mkX8JMv79q9r",
        "colab_type": "code",
        "outputId": "2707cb21-81b8-4d37-a443-a201a0dd5c1b",
        "colab": {
          "base_uri": "https://localhost:8080/",
          "height": 34
        }
      },
      "cell_type": "code",
      "source": [
        "print(score)"
      ],
      "execution_count": 0,
      "outputs": [
        {
          "output_type": "stream",
          "text": [
            "[0.028639891363773495, 0.9925]\n"
          ],
          "name": "stdout"
        }
      ]
    },
    {
      "metadata": {
        "id": "OCWoJkwE9suh",
        "colab_type": "code",
        "colab": {}
      },
      "cell_type": "code",
      "source": [
        "y_pred = model.predict(X_test)"
      ],
      "execution_count": 0,
      "outputs": []
    },
    {
      "metadata": {
        "id": "Ym7iCFBm9uBs",
        "colab_type": "code",
        "outputId": "691180dd-9b54-4c9a-f7a5-faa79f14dd83",
        "colab": {
          "base_uri": "https://localhost:8080/",
          "height": 493
        }
      },
      "cell_type": "code",
      "source": [
        "print(y_pred[:9])\n",
        "print(y_test[:9])"
      ],
      "execution_count": 0,
      "outputs": [
        {
          "output_type": "stream",
          "text": [
            "[[2.34529791e-11 9.02300901e-09 1.85091051e-06 1.11200826e-08\n",
            "  3.56610386e-08 1.11708949e-11 2.45977706e-16 9.99997258e-01\n",
            "  2.85703631e-11 7.84455437e-07]\n",
            " [1.87023073e-08 5.02567616e-07 9.99997735e-01 1.00063087e-08\n",
            "  4.24201563e-09 7.56873644e-12 1.16092096e-07 1.63584457e-06\n",
            "  3.85067622e-08 3.72997966e-10]\n",
            " [2.95731667e-07 9.99988675e-01 1.55107458e-07 5.28789279e-09\n",
            "  4.83148688e-06 2.05996020e-08 7.48930020e-08 1.05549441e-06\n",
            "  8.71529053e-08 4.94528877e-06]\n",
            " [9.99505401e-01 2.38367184e-15 3.77388687e-07 6.19916278e-08\n",
            "  2.91633114e-07 4.66179955e-07 4.06653038e-04 1.63777325e-10\n",
            "  1.93039195e-05 6.74126422e-05]\n",
            " [7.02715965e-07 2.30435851e-10 1.88505910e-05 3.39169333e-08\n",
            "  9.99920845e-01 5.60091351e-08 9.92949026e-06 9.99941130e-10\n",
            "  4.87817670e-05 9.01029068e-07]\n",
            " [4.06967082e-08 9.99990344e-01 7.65021966e-08 3.20950044e-10\n",
            "  3.69046143e-06 6.15857199e-10 2.44148008e-08 4.73517872e-07\n",
            "  3.69060196e-08 5.30120951e-06]\n",
            " [3.11854709e-11 3.36044849e-07 9.74577716e-08 1.15629717e-09\n",
            "  9.99994159e-01 9.06814457e-10 2.59974486e-12 9.93612502e-07\n",
            "  1.07825873e-08 4.39308042e-06]\n",
            " [4.85877116e-08 1.22097497e-08 4.60962365e-05 2.12140162e-06\n",
            "  1.88244638e-04 1.17510702e-07 8.50642152e-08 4.76471484e-07\n",
            "  2.01660914e-05 9.99742687e-01]\n",
            " [9.91758134e-11 5.11259221e-13 1.84801618e-10 5.47922298e-11\n",
            "  7.08877540e-11 1.76414430e-01 8.23548734e-01 2.20470343e-12\n",
            "  3.65774504e-05 2.52324128e-07]]\n",
            "[7 2 1 0 4 1 4 9 5]\n"
          ],
          "name": "stdout"
        }
      ]
    },
    {
      "metadata": {
        "id": "CT--y98_dr2T",
        "colab_type": "code",
        "colab": {}
      },
      "cell_type": "code",
      "source": [
        "layer_dict = dict([(layer.name, layer) for layer in model.layers])"
      ],
      "execution_count": 0,
      "outputs": []
    },
    {
      "metadata": {
        "id": "caj_wUM0ADX8",
        "colab_type": "code",
        "outputId": "f2b4afa3-012d-42bc-db7c-b79148816c12",
        "colab": {
          "base_uri": "https://localhost:8080/",
          "height": 340
        }
      },
      "cell_type": "code",
      "source": [
        "layer_dict"
      ],
      "execution_count": 0,
      "outputs": [
        {
          "output_type": "execute_result",
          "data": {
            "text/plain": [
              "{'activation_1': <keras.layers.core.Activation at 0x7fc49baac9e8>,\n",
              " 'batch_normalization_1': <keras.layers.normalization.BatchNormalization at 0x7fc4a0f4eb00>,\n",
              " 'batch_normalization_2': <keras.layers.normalization.BatchNormalization at 0x7fc4a0f4eac8>,\n",
              " 'batch_normalization_3': <keras.layers.normalization.BatchNormalization at 0x7fc49bdd22e8>,\n",
              " 'batch_normalization_4': <keras.layers.normalization.BatchNormalization at 0x7fc49bce7cf8>,\n",
              " 'batch_normalization_5': <keras.layers.normalization.BatchNormalization at 0x7fc49bc00fd0>,\n",
              " 'conv2d_1': <keras.layers.convolutional.Conv2D at 0x7fc4a0f4e780>,\n",
              " 'conv2d_10': <keras.layers.convolutional.Conv2D at 0x7fc49bbe4240>,\n",
              " 'conv2d_11': <keras.layers.convolutional.Conv2D at 0x7fc49baf2c88>,\n",
              " 'conv2d_12': <keras.layers.convolutional.Conv2D at 0x7fc49baf2550>,\n",
              " 'conv2d_2': <keras.layers.convolutional.Conv2D at 0x7fc4a0f4e748>,\n",
              " 'conv2d_3': <keras.layers.convolutional.Conv2D at 0x7fc4a0f68908>,\n",
              " 'conv2d_4': <keras.layers.convolutional.Conv2D at 0x7fc4a0f68fd0>,\n",
              " 'conv2d_5': <keras.layers.convolutional.Conv2D at 0x7fc49be0ed68>,\n",
              " 'conv2d_6': <keras.layers.convolutional.Conv2D at 0x7fc49be347f0>,\n",
              " 'conv2d_7': <keras.layers.convolutional.Conv2D at 0x7fc49bccb668>,\n",
              " 'conv2d_8': <keras.layers.convolutional.Conv2D at 0x7fc49bccbe80>,\n",
              " 'conv2d_9': <keras.layers.convolutional.Conv2D at 0x7fc49bbe4978>,\n",
              " 'flatten_1': <keras.layers.core.Flatten at 0x7fc49ba68da0>}"
            ]
          },
          "metadata": {
            "tags": []
          },
          "execution_count": 23
        }
      ]
    },
    {
      "metadata": {
        "id": "2GY4Upv4dsUR",
        "colab_type": "code",
        "outputId": "e2f7c6b2-bb1b-4857-b84c-557c063afd4b",
        "colab": {
          "base_uri": "https://localhost:8080/",
          "height": 742
        }
      },
      "cell_type": "code",
      "source": [
        "import numpy as np\n",
        "from matplotlib import pyplot as plt\n",
        "from keras import backend as K\n",
        "%matplotlib inline\n",
        "# util function to convert a tensor into a valid image\n",
        "def deprocess_image(x):\n",
        "    # normalize tensor: center on 0., ensure std is 0.1\n",
        "    x -= x.mean()\n",
        "    x /= (x.std() + 1e-5)\n",
        "    x *= 0.1\n",
        "\n",
        "    # clip to [0, 1]\n",
        "    x += 0.5\n",
        "    x = np.clip(x, 0, 1)\n",
        "\n",
        "    # convert to RGB array\n",
        "    x *= 255\n",
        "    #x = x.transpose((1, 2, 0))\n",
        "    x = np.clip(x, 0, 255).astype('uint8')\n",
        "    return x\n",
        "\n",
        "def vis_img_in_filter(img = np.array(X_train[2]).reshape((1, 28, 28, 1)).astype(np.float64), \n",
        "                      layer_name = 'conv2d_10'):\n",
        "    layer_output = layer_dict[layer_name].output\n",
        "    img_ascs = list()\n",
        "    for filter_index in range(layer_output.shape[3]):\n",
        "        # build a loss function that maximizes the activation\n",
        "        # of the nth filter of the layer considered\n",
        "        loss = K.mean(layer_output[:, :, :, filter_index])\n",
        "\n",
        "        # compute the gradient of the input picture wrt this loss\n",
        "        grads = K.gradients(loss, model.input)[0]\n",
        "\n",
        "        # normalization trick: we normalize the gradient\n",
        "        grads /= (K.sqrt(K.mean(K.square(grads))) + 1e-5)\n",
        "\n",
        "        # this function returns the loss and grads given the input picture\n",
        "        iterate = K.function([model.input], [loss, grads])\n",
        "\n",
        "        # step size for gradient ascent\n",
        "        step = 5.\n",
        "\n",
        "        img_asc = np.array(img)\n",
        "        # run gradient ascent for 20 steps\n",
        "        for i in range(20):\n",
        "            loss_value, grads_value = iterate([img_asc])\n",
        "            img_asc += grads_value * step\n",
        "\n",
        "        img_asc = img_asc[0]\n",
        "        img_ascs.append(deprocess_image(img_asc).reshape((28, 28)))\n",
        "        \n",
        "    if layer_output.shape[3] >= 35:\n",
        "        plot_x, plot_y = 6, 6\n",
        "    elif layer_output.shape[3] >= 23:\n",
        "        plot_x, plot_y = 4, 6\n",
        "    elif layer_output.shape[3] >= 11:\n",
        "        plot_x, plot_y = 2, 6\n",
        "    else:\n",
        "        plot_x, plot_y = 1, 2\n",
        "    fig, ax = plt.subplots(plot_x, plot_y, figsize = (12, 12))\n",
        "    ax[0, 0].imshow(img.reshape((28, 28)), cmap = 'gray')\n",
        "    ax[0, 0].set_title('Input image')\n",
        "    fig.suptitle('Input image and %s filters' % (layer_name,))\n",
        "    fig.tight_layout(pad = 0.3, rect = [0, 0, 0.9, 0.9])\n",
        "    for (x, y) in [(i, j) for i in range(plot_x) for j in range(plot_y)]:\n",
        "        if x == 0 and y == 0:\n",
        "            continue\n",
        "        ax[x, y].imshow(img_ascs[x * plot_y + y - 1], cmap = 'gray')\n",
        "        ax[x, y].set_title('filter %d' % (x * plot_y + y - 1))\n",
        "\n",
        "vis_img_in_filter()"
      ],
      "execution_count": 0,
      "outputs": [
        {
          "output_type": "display_data",
          "data": {
            "image/png": "[encoded data removed]",
            "text/plain": [
              "<matplotlib.figure.Figure at 0x7fc49534acc0>"
            ]
          },
          "metadata": {
            "tags": []
          }
        }
      ]
    },
    {
      "metadata": {
        "id": "9tvptcn8dxvp",
        "colab_type": "code",
        "colab": {}
      },
      "cell_type": "code",
      "source": [
        ""
      ],
      "execution_count": 0,
      "outputs": []
    }
  ]
}